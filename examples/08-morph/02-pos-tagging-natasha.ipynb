{
 "cells": [
  {
   "cell_type": "markdown",
   "id": "ea624eeb",
   "metadata": {},
   "source": [
    "**Разметка частей речи**\n",
    "\n",
    "Евгений Борисов <esborisov@sevsu.ru>\n",
    "\n",
    "используем пакет библиотек Natasha"
   ]
  },
  {
   "cell_type": "markdown",
   "id": "e2d63578",
   "metadata": {},
   "source": [
    "---"
   ]
  },
  {
   "cell_type": "markdown",
   "id": "50acdf76",
   "metadata": {},
   "source": [
    "Проект Natasha. Набор качественных открытых инструментов для обработки естественного русского языка (NLP)    \n",
    "А.Кукушкин   \n",
    "https://habr.com/ru/post/516098/    "
   ]
  },
  {
   "cell_type": "markdown",
   "id": "33650856",
   "metadata": {},
   "source": [
    "---"
   ]
  },
  {
   "cell_type": "code",
   "execution_count": 1,
   "id": "4156d664",
   "metadata": {},
   "outputs": [
    {
     "name": "stdout",
     "output_type": "stream",
     "text": [
      "               Кроме ADP\n",
      "                того PRON|Animacy=Inan|Case=Gen|Gender=Neut|Number=Sing\n",
      "                   , PUNCT\n",
      "              иногда ADV|Degree=Pos\n",
      "                одно DET|Case=Nom|Degree=Pos|Gender=Neut|Number=Sing\n",
      "                   и CCONJ\n",
      "                  то DET|Case=Nom|Gender=Neut|Number=Sing\n",
      "                  же PART\n",
      "               слово NOUN|Animacy=Inan|Case=Nom|Gender=Neut|Number=Sing\n",
      "               может VERB|Aspect=Imp|Mood=Ind|Number=Sing|Person=3|Tense=Pres|VerbForm=Fin|Voice=Act\n",
      "               иметь VERB|Aspect=Imp|VerbForm=Inf|Voice=Act\n",
      "           несколько NUM|Animacy=Inan|Case=Acc\n",
      "              разных ADJ|Case=Gen|Degree=Pos|Number=Plur\n",
      "                лемм NOUN|Animacy=Inan|Case=Gen|Gender=Masc|Number=Plur\n",
      "                   . PUNCT\n"
     ]
    }
   ],
   "source": [
    "# from pprint import pprint\n",
    "from natasha import Doc\n",
    "from natasha import Segmenter\n",
    "from natasha import NewsEmbedding\n",
    "from natasha import NewsMorphTagger\n",
    "\n",
    "sentence = 'Кроме того, иногда одно и то же слово может иметь несколько разных лемм.'\n",
    "\n",
    "doc = Doc(sentence)\n",
    "doc.segment( Segmenter() )\n",
    "doc.tag_morph( NewsMorphTagger( NewsEmbedding() ) )\n",
    "\n",
    "doc.sents[0].morph.print()"
   ]
  },
  {
   "cell_type": "code",
   "execution_count": null,
   "id": "c839d99e",
   "metadata": {},
   "outputs": [],
   "source": []
  }
 ],
 "metadata": {
  "kernelspec": {
   "display_name": "Python 3 (ipykernel)",
   "language": "python",
   "name": "python3"
  },
  "language_info": {
   "codemirror_mode": {
    "name": "ipython",
    "version": 3
   },
   "file_extension": ".py",
   "mimetype": "text/x-python",
   "name": "python",
   "nbconvert_exporter": "python",
   "pygments_lexer": "ipython3",
   "version": "3.8.9"
  },
  "toc": {
   "base_numbering": 1,
   "nav_menu": {},
   "number_sections": true,
   "sideBar": true,
   "skip_h1_title": false,
   "title_cell": "Table of Contents",
   "title_sidebar": "Contents",
   "toc_cell": false,
   "toc_position": {},
   "toc_section_display": true,
   "toc_window_display": false
  }
 },
 "nbformat": 4,
 "nbformat_minor": 5
}
