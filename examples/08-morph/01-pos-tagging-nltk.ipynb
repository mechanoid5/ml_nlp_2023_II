{
 "cells": [
  {
   "cell_type": "markdown",
   "id": "5364f5ac",
   "metadata": {},
   "source": [
    "**Разметка частей речи**\n",
    "\n",
    "Евгений Борисов <esborisov@sevsu.ru>\n",
    "\n",
    "библиотека NLTK"
   ]
  },
  {
   "cell_type": "markdown",
   "id": "7b1e0b23",
   "metadata": {},
   "source": [
    "Сравнение и создание морфологических анализаторов в NLTK.   https://habr.com/ru/post/340404/"
   ]
  },
  {
   "cell_type": "code",
   "execution_count": 1,
   "id": "a1822705",
   "metadata": {},
   "outputs": [],
   "source": [
    "import nltk\n",
    "\n",
    "# nltk.download('brown')\n",
    "# nltk.download('punkt')\n",
    "# nltk.download('averaged_perceptron_tagger')\n",
    "# nltk.download('averaged_perceptron_tagger_ru')"
   ]
  },
  {
   "cell_type": "markdown",
   "id": "557f250d",
   "metadata": {},
   "source": [
    "**Brown Corpus**  \n",
    "The Brown University Standard Corpus of Present-Day American English (or just Brown Corpus) is an electronic collection of text samples of American English, the first major structured corpus of varied genres. This corpus first set the bar for the scientific study of the frequency and distribution of word categories in everyday language use.\n",
    "\n",
    "\n",
    "https://en.wikipedia.org/wiki/Brown_Corpus"
   ]
  },
  {
   "cell_type": "markdown",
   "id": "384036ae",
   "metadata": {},
   "source": [
    "---"
   ]
  },
  {
   "cell_type": "code",
   "execution_count": 2,
   "id": "dcd2f007",
   "metadata": {},
   "outputs": [
    {
     "data": {
      "text/plain": [
       "[[('The', 'AT'), ('Fulton', 'NP-TL'), ('County', 'NN-TL'), ('Grand', 'JJ-TL'), ('Jury', 'NN-TL'), ('said', 'VBD'), ('Friday', 'NR'), ('an', 'AT'), ('investigation', 'NN'), ('of', 'IN'), (\"Atlanta's\", 'NP$'), ('recent', 'JJ'), ('primary', 'NN'), ('election', 'NN'), ('produced', 'VBD'), ('``', '``'), ('no', 'AT'), ('evidence', 'NN'), (\"''\", \"''\"), ('that', 'CS'), ('any', 'DTI'), ('irregularities', 'NNS'), ('took', 'VBD'), ('place', 'NN'), ('.', '.')], [('The', 'AT'), ('jury', 'NN'), ('further', 'RBR'), ('said', 'VBD'), ('in', 'IN'), ('term-end', 'NN'), ('presentments', 'NNS'), ('that', 'CS'), ('the', 'AT'), ('City', 'NN-TL'), ('Executive', 'JJ-TL'), ('Committee', 'NN-TL'), (',', ','), ('which', 'WDT'), ('had', 'HVD'), ('over-all', 'JJ'), ('charge', 'NN'), ('of', 'IN'), ('the', 'AT'), ('election', 'NN'), (',', ','), ('``', '``'), ('deserves', 'VBZ'), ('the', 'AT'), ('praise', 'NN'), ('and', 'CC'), ('thanks', 'NNS'), ('of', 'IN'), ('the', 'AT'), ('City', 'NN-TL'), ('of', 'IN-TL'), ('Atlanta', 'NP-TL'), (\"''\", \"''\"), ('for', 'IN'), ('the', 'AT'), ('manner', 'NN'), ('in', 'IN'), ('which', 'WDT'), ('the', 'AT'), ('election', 'NN'), ('was', 'BEDZ'), ('conducted', 'VBN'), ('.', '.')], ...]"
      ]
     },
     "execution_count": 2,
     "metadata": {},
     "output_type": "execute_result"
    }
   ],
   "source": [
    "nltk.corpus.brown.tagged_sents(categories='news')"
   ]
  },
  {
   "cell_type": "code",
   "execution_count": 3,
   "id": "4e1a497b",
   "metadata": {},
   "outputs": [
    {
     "data": {
      "text/plain": [
       "4160"
      ]
     },
     "execution_count": 3,
     "metadata": {},
     "output_type": "execute_result"
    }
   ],
   "source": [
    "training_count = int(len(nltk.corpus.brown.tagged_sents(categories='news')) * .9)\n",
    "training_count"
   ]
  },
  {
   "cell_type": "code",
   "execution_count": 4,
   "id": "4de3875a",
   "metadata": {},
   "outputs": [],
   "source": [
    "# учебные размеченные данные\n",
    "training_sents = nltk.corpus.brown.tagged_sents(categories='news')[:training_count]\n",
    "\n",
    "# тестовые размеченные данные\n",
    "testing_sents = nltk.corpus.brown.tagged_sents(categories='news')[training_count+1:]\n",
    "\n",
    "# тестовые НЕразмеченные данные\n",
    "testing_sents_notags = nltk.corpus.brown.sents(categories='news')[training_count+1:]"
   ]
  },
  {
   "cell_type": "code",
   "execution_count": 5,
   "id": "3f68cbe1",
   "metadata": {},
   "outputs": [
    {
     "data": {
      "text/plain": [
       "'NN'"
      ]
     },
     "execution_count": 5,
     "metadata": {},
     "output_type": "execute_result"
    }
   ],
   "source": [
    "# самый часто используемый тег - NN(noun, имя существительное) \n",
    "tags = [tag for (word, tag) in \n",
    "        nltk.corpus.brown.tagged_words(categories='news')]\n",
    "nltk.FreqDist(tags).max()"
   ]
  },
  {
   "cell_type": "markdown",
   "id": "c7d14fae",
   "metadata": {},
   "source": [
    "---"
   ]
  },
  {
   "cell_type": "code",
   "execution_count": 6,
   "id": "dd466e0f",
   "metadata": {},
   "outputs": [
    {
     "data": {
      "text/plain": [
       "[('Holmes', 'NN'),\n",
       " ('went', 'NN'),\n",
       " ('to', 'NN'),\n",
       " (\"Atlanta's\", 'NN'),\n",
       " ('Morehouse', 'NN'),\n",
       " ('(', 'NN'),\n",
       " ('Negro', 'NN'),\n",
       " (')', 'NN'),\n",
       " ('College', 'NN'),\n",
       " (',', 'NN'),\n",
       " ('where', 'NN'),\n",
       " ('he', 'NN'),\n",
       " ('is', 'NN'),\n",
       " ('a', 'NN'),\n",
       " ('B', 'NN'),\n",
       " ('student', 'NN'),\n",
       " ('and', 'NN'),\n",
       " ('star', 'NN'),\n",
       " ('halfback', 'NN'),\n",
       " ('.', 'NN')]"
      ]
     },
     "execution_count": 6,
     "metadata": {},
     "output_type": "execute_result"
    }
   ],
   "source": [
    "# примитивный (вырожденный) тагер - всем присваивает один таг\n",
    "default_tagger = nltk.DefaultTagger('NN')\n",
    "default_tagger.tag(testing_sents_notags[5])"
   ]
  },
  {
   "cell_type": "code",
   "execution_count": 7,
   "id": "988025fe",
   "metadata": {},
   "outputs": [
    {
     "data": {
      "text/plain": [
       "0.12639776357827476"
      ]
     },
     "execution_count": 7,
     "metadata": {},
     "output_type": "execute_result"
    }
   ],
   "source": [
    "# доля правильных тагов\n",
    "default_tagger.accuracy(testing_sents)"
   ]
  },
  {
   "cell_type": "markdown",
   "id": "eb1881c4",
   "metadata": {},
   "source": [
    "---"
   ]
  },
  {
   "cell_type": "code",
   "execution_count": 8,
   "id": "6a4ac5c7",
   "metadata": {},
   "outputs": [
    {
     "data": {
      "text/plain": [
       "[('Holmes', 'VBZ'),\n",
       " ('went', 'NN'),\n",
       " ('to', 'NN'),\n",
       " (\"Atlanta's\", 'NN$'),\n",
       " ('Morehouse', 'NN'),\n",
       " ('(', 'NN'),\n",
       " ('Negro', 'NN'),\n",
       " (')', 'NN'),\n",
       " ('College', 'NN'),\n",
       " (',', 'NN'),\n",
       " ('where', 'NN'),\n",
       " ('he', 'NN'),\n",
       " ('is', 'NNS'),\n",
       " ('a', 'NN'),\n",
       " ('B', 'NN'),\n",
       " ('student', 'NN'),\n",
       " ('and', 'NN'),\n",
       " ('star', 'NN'),\n",
       " ('halfback', 'NN'),\n",
       " ('.', 'NN')]"
      ]
     },
     "execution_count": 8,
     "metadata": {},
     "output_type": "execute_result"
    }
   ],
   "source": [
    "# тагер на простых правилах\n",
    "patterns = [\n",
    "     (r'.*ing$', 'VBG'),               # gerunds\n",
    "     (r'.*ed$', 'VBD'),                # simple past\n",
    "     (r'.*es$', 'VBZ'),                # 3rd singular present\n",
    "     (r'.*ould$', 'MD'),               # modals\n",
    "     (r'.*\\'s$', 'NN$'),               # possessive nouns\n",
    "     (r'.*s$', 'NNS'),                 # plural nouns\n",
    "     (r'^-?[0-9]+(.[0-9]+)?$', 'CD'),  # cardinal numbers\n",
    "     (r'.*', 'NN')                     # nouns (default)\n",
    "]\n",
    "regexp_tagger = nltk.RegexpTagger(patterns)\n",
    "regexp_tagger.tag(testing_sents_notags[5])"
   ]
  },
  {
   "cell_type": "code",
   "execution_count": 9,
   "id": "5af1a993",
   "metadata": {},
   "outputs": [
    {
     "data": {
      "text/plain": [
       "0.20467252396166133"
      ]
     },
     "execution_count": 9,
     "metadata": {},
     "output_type": "execute_result"
    }
   ],
   "source": [
    "# доля правильных тагов\n",
    "regexp_tagger.accuracy(testing_sents)"
   ]
  },
  {
   "cell_type": "markdown",
   "id": "930265ed",
   "metadata": {},
   "source": [
    "---"
   ]
  },
  {
   "cell_type": "code",
   "execution_count": 10,
   "id": "5bce857c",
   "metadata": {},
   "outputs": [
    {
     "data": {
      "text/plain": [
       "[('Holmes', 'NN'),\n",
       " ('went', 'VBD'),\n",
       " ('to', 'TO'),\n",
       " (\"Atlanta's\", 'NP$'),\n",
       " ('Morehouse', 'NN'),\n",
       " ('(', '('),\n",
       " ('Negro', 'NP'),\n",
       " (')', ')'),\n",
       " ('College', 'NN-TL'),\n",
       " (',', ','),\n",
       " ('where', 'WRB'),\n",
       " ('he', 'PPS'),\n",
       " ('is', 'BEZ'),\n",
       " ('a', 'AT'),\n",
       " ('B', 'NN'),\n",
       " ('student', 'NN'),\n",
       " ('and', 'CC'),\n",
       " ('star', 'NN'),\n",
       " ('halfback', 'NN'),\n",
       " ('.', '.')]"
      ]
     },
     "execution_count": 10,
     "metadata": {},
     "output_type": "execute_result"
    }
   ],
   "source": [
    "# комбинации из разных тагеров (backoff)\n",
    "\n",
    "default_tagger = nltk.DefaultTagger('NN')\n",
    "unigram_tagger = nltk.UnigramTagger(training_sents, \n",
    "                                    backoff=default_tagger)\n",
    "bigram_tagger = nltk.BigramTagger(training_sents,\n",
    "                                  backoff=unigram_tagger)\n",
    "\n",
    "bigram_tagger.tag(testing_sents_notags[5])"
   ]
  },
  {
   "cell_type": "code",
   "execution_count": 11,
   "id": "24068ca1",
   "metadata": {},
   "outputs": [
    {
     "data": {
      "text/plain": [
       "0.8452476038338658"
      ]
     },
     "execution_count": 11,
     "metadata": {},
     "output_type": "execute_result"
    }
   ],
   "source": [
    "bigram_tagger.accuracy(testing_sents) # доля правильных тагов"
   ]
  },
  {
   "cell_type": "markdown",
   "id": "f40df3f4",
   "metadata": {},
   "source": [
    "---"
   ]
  },
  {
   "cell_type": "code",
   "execution_count": 12,
   "id": "9821a709",
   "metadata": {},
   "outputs": [],
   "source": [
    "# nltk.download('averaged_perceptron_tagger')"
   ]
  },
  {
   "cell_type": "code",
   "execution_count": 13,
   "id": "3b1741c4",
   "metadata": {},
   "outputs": [
    {
     "data": {
      "text/plain": [
       "[('Today', 'NN'),\n",
       " ('morning', 'NN'),\n",
       " (',', ','),\n",
       " ('Arthur', 'NNP'),\n",
       " ('felt', 'VBD'),\n",
       " ('very', 'RB'),\n",
       " ('good', 'JJ'),\n",
       " ('.', '.')]"
      ]
     },
     "execution_count": 13,
     "metadata": {},
     "output_type": "execute_result"
    }
   ],
   "source": [
    "sentence = 'Today morning, Arthur felt very good.'\n",
    "\n",
    "# предобученный тагер (английский)\n",
    "nltk.pos_tag(  nltk.word_tokenize(sentence), lang='eng')"
   ]
  },
  {
   "cell_type": "code",
   "execution_count": 16,
   "id": "f9fda02a",
   "metadata": {},
   "outputs": [
    {
     "data": {
      "text/plain": [
       "[('Кроме', 'PR'),\n",
       " ('того', 'S-PRO'),\n",
       " (',', 'NONLEX'),\n",
       " ('иногда', 'ADV'),\n",
       " ('одно', 'A-PRO=n'),\n",
       " ('и', 'CONJ'),\n",
       " ('то', 'S-PRO'),\n",
       " ('же', 'PART'),\n",
       " ('слово', 'S'),\n",
       " ('может', 'V'),\n",
       " ('иметь', 'V'),\n",
       " ('несколько', 'NUM=acc'),\n",
       " ('разных', 'A=pl'),\n",
       " ('лемм', 'S'),\n",
       " ('.', 'NONLEX')]"
      ]
     },
     "execution_count": 16,
     "metadata": {},
     "output_type": "execute_result"
    }
   ],
   "source": [
    "sentence = 'Кроме того, иногда одно и то же слово может иметь несколько разных лемм.'\n",
    "# предобученный тагер (русский)\n",
    "nltk.pos_tag(  nltk.word_tokenize(sentence), lang='rus')"
   ]
  },
  {
   "cell_type": "markdown",
   "id": "1954d3b2",
   "metadata": {},
   "source": [
    "---"
   ]
  },
  {
   "cell_type": "raw",
   "id": "ba83aac9",
   "metadata": {},
   "source": [
    "CC Coordinating Conjunction\n",
    "CD Cardinal Digit\n",
    "DT Determiner\n",
    "EX Existential There. Example: “there is” … think of it like “there exists”)\n",
    "FW Foreign Word.\n",
    "IN Preposition/Subordinating Conjunction.\n",
    "JJ Adjective.\n",
    "JJR Adjective, Comparative.\n",
    "JJS Adjective, Superlative.\n",
    "LS List Marker 1.\n",
    "MD Modal.\n",
    "NN Noun, Singular.\n",
    "NNS Noun Plural.\n",
    "NNP Proper Noun, Singular.\n",
    "NNPS Proper Noun, Plural.\n",
    "PDT Predeterminer.\n",
    "POS Possessive Ending. Example: parent’s\n",
    "PRP Personal Pronoun. Examples: I, he, she\n",
    "PRP$ Possessive Pronoun. Examples: my, his, hers\n",
    "RB Adverb. Examples: very, silently,\n",
    "RBR Adverb, Comparative. Example: better\n",
    "RBS Adverb, Superlative. Example: best\n",
    "RP Particle. Example: give up\n",
    "TO to. Example: go ‘to’ the store.\n",
    "UH Interjection. Example: errrrrrrrm\n",
    "VB Verb, Base Form. Example: take\n",
    "VBD Verb, Past Tense. Example: took\n",
    "VBG Verb, Gerund/Present Participle. Example: taking\n",
    "VBN Verb, Past Participle. Example: taken\n",
    "VBP Verb, Sing Present, non-3d take\n",
    "VBZ Verb, 3rd person sing. present takes\n",
    "WDT wh-determiner. Example: which\n",
    "WP wh-pronoun. Example: who, what\n",
    "WP$ possessive wh-pronoun. Example: whose\n",
    "WRB wh-abverb. Example: where, when"
   ]
  },
  {
   "cell_type": "markdown",
   "id": "879ef894",
   "metadata": {},
   "source": [
    "---"
   ]
  },
  {
   "cell_type": "code",
   "execution_count": null,
   "id": "10c1f74a",
   "metadata": {},
   "outputs": [],
   "source": []
  }
 ],
 "metadata": {
  "kernelspec": {
   "display_name": "Python 3 (ipykernel)",
   "language": "python",
   "name": "python3"
  },
  "language_info": {
   "codemirror_mode": {
    "name": "ipython",
    "version": 3
   },
   "file_extension": ".py",
   "mimetype": "text/x-python",
   "name": "python",
   "nbconvert_exporter": "python",
   "pygments_lexer": "ipython3",
   "version": "3.11.5"
  },
  "toc": {
   "base_numbering": 1,
   "nav_menu": {},
   "number_sections": true,
   "sideBar": true,
   "skip_h1_title": false,
   "title_cell": "Table of Contents",
   "title_sidebar": "Contents",
   "toc_cell": false,
   "toc_position": {},
   "toc_section_display": true,
   "toc_window_display": false
  }
 },
 "nbformat": 4,
 "nbformat_minor": 5
}
