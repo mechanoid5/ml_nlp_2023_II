{
 "cells": [
  {
   "cell_type": "markdown",
   "id": "6dd55182",
   "metadata": {},
   "source": [
    "__Извлечение именованных сущностей из текстов__\n",
    "\n",
    "Евгений Борисов <esborisov@sevsu.ru>"
   ]
  },
  {
   "cell_type": "markdown",
   "id": "d4535af7",
   "metadata": {},
   "source": [
    "---"
   ]
  },
  {
   "cell_type": "markdown",
   "id": "5ee934f8",
   "metadata": {},
   "source": [
    "### извлечение имён"
   ]
  },
  {
   "cell_type": "code",
   "execution_count": 1,
   "id": "dbdbaff7",
   "metadata": {},
   "outputs": [],
   "source": [
    "text = '''\n",
    "Школа анализа данных возникла в 2007 году с целью восполнить \n",
    "недостаток квалифицированных кадров на рынке труда, с которым \n",
    "столкнулся Яндекс в то время. Научным руководителем ШАД стал \n",
    "профессор Ратгерского университета Илья Мучник, директором — Елена Бунина. \n",
    "'''"
   ]
  },
  {
   "cell_type": "code",
   "execution_count": 2,
   "id": "c6dc01e1",
   "metadata": {},
   "outputs": [
    {
     "data": {
      "text/html": [
       "<div class=\"tex2jax_ignore\" style=\"white-space: pre-wrap\">\n",
       "Школа анализа <span style=\"padding: 2px; border-radius: 4px; border: 1px solid #bbdefb; background: #e3f2fd\">данных</span> <span style=\"padding: 2px; border-radius: 4px; border: 1px solid #bbdefb; background: #e3f2fd\">возникла</span> <span style=\"padding: 2px; border-radius: 4px; border: 1px solid #bbdefb; background: #e3f2fd\">в</span> 2007 году <span style=\"padding: 2px; border-radius: 4px; border: 1px solid #bbdefb; background: #e3f2fd\">с</span> <span style=\"padding: 2px; border-radius: 4px; border: 1px solid #bbdefb; background: #e3f2fd\">целью</span> восполнить \n",
       "недостаток квалифицированных <span style=\"padding: 2px; border-radius: 4px; border: 1px solid #bbdefb; background: #e3f2fd\">кадров</span> на <span style=\"padding: 2px; border-radius: 4px; border: 1px solid #bbdefb; background: #e3f2fd\">рынке</span> <span style=\"padding: 2px; border-radius: 4px; border: 1px solid #bbdefb; background: #e3f2fd\">труда</span>, <span style=\"padding: 2px; border-radius: 4px; border: 1px solid #bbdefb; background: #e3f2fd\">с</span> которым \n",
       "столкнулся <span style=\"padding: 2px; border-radius: 4px; border: 1px solid #bbdefb; background: #e3f2fd\">Яндекс</span> <span style=\"padding: 2px; border-radius: 4px; border: 1px solid #bbdefb; background: #e3f2fd\">в</span> <span style=\"padding: 2px; border-radius: 4px; border: 1px solid #bbdefb; background: #e3f2fd\">то</span> время. Научным руководителем <span style=\"padding: 2px; border-radius: 4px; border: 1px solid #bbdefb; background: #e3f2fd\">ШАД</span> <span style=\"padding: 2px; border-radius: 4px; border: 1px solid #bbdefb; background: #e3f2fd\">стал</span> \n",
       "профессор <span style=\"padding: 2px; border-radius: 4px; border: 1px solid #bbdefb; background: #e3f2fd\">Ратгерского</span> университета <span style=\"padding: 2px; border-radius: 4px; border: 1px solid #bbdefb; background: #e3f2fd\">Илья Мучник</span>, <span style=\"padding: 2px; border-radius: 4px; border: 1px solid #bbdefb; background: #e3f2fd\">директором</span> — <span style=\"padding: 2px; border-radius: 4px; border: 1px solid #bbdefb; background: #e3f2fd\">Елена Бунина</span>. \n",
       "</div>"
      ],
      "text/plain": [
       "<IPython.core.display.HTML object>"
      ]
     },
     "metadata": {},
     "output_type": "display_data"
    },
    {
     "data": {
      "text/plain": [
       "[{'last': 'данных'},\n",
       " {'last': 'возникла'},\n",
       " {'last': 'в'},\n",
       " {'last': 'с'},\n",
       " {'last': 'целью'},\n",
       " {'last': 'кадров'},\n",
       " {'last': 'рынке'},\n",
       " {'last': 'труда'},\n",
       " {'last': 'с'},\n",
       " {'last': 'Яндекс'},\n",
       " {'last': 'в'},\n",
       " {'last': 'то'},\n",
       " {'last': 'ШАД'},\n",
       " {'last': 'стал'},\n",
       " {'last': 'Ратгерского'},\n",
       " {'first': 'Илья', 'last': 'Мучник'},\n",
       " {'last': 'директором'},\n",
       " {'first': 'Елена', 'last': 'Бунина'}]"
      ]
     },
     "metadata": {},
     "output_type": "display_data"
    }
   ],
   "source": [
    "from ipymarkup import show_span_box_markup as show_markup\n",
    "from natasha import MorphVocab\n",
    "from natasha import NamesExtractor \n",
    "\n",
    "extrator = NamesExtractor(MorphVocab())\n",
    "\n",
    "matches = list(  extrator(text) )\n",
    "show_markup( text, [ (m.start,m.stop) for m in  matches ] )\n",
    "display( [ dict( m.as_json['fact'].as_json ) for m in matches ]  )"
   ]
  },
  {
   "cell_type": "markdown",
   "id": "a03928d7",
   "metadata": {},
   "source": [
    "### извлечение дат "
   ]
  },
  {
   "cell_type": "code",
   "execution_count": 3,
   "id": "a15384a2",
   "metadata": {},
   "outputs": [],
   "source": [
    "text = '24.01.2017, 2015 год, 2014 г, 1 апреля, май 2017 г., 9 мая 2017 года'"
   ]
  },
  {
   "cell_type": "code",
   "execution_count": 4,
   "id": "a3f79a75",
   "metadata": {},
   "outputs": [
    {
     "data": {
      "text/html": [
       "<div class=\"tex2jax_ignore\" style=\"white-space: pre-wrap\"><span style=\"padding: 2px; border-radius: 4px; border: 1px solid #bbdefb; background: #e3f2fd\">24.01.2017</span>, <span style=\"padding: 2px; border-radius: 4px; border: 1px solid #bbdefb; background: #e3f2fd\">2015 год</span>, <span style=\"padding: 2px; border-radius: 4px; border: 1px solid #bbdefb; background: #e3f2fd\">2014 г</span>, <span style=\"padding: 2px; border-radius: 4px; border: 1px solid #bbdefb; background: #e3f2fd\">1 апреля</span>, <span style=\"padding: 2px; border-radius: 4px; border: 1px solid #bbdefb; background: #e3f2fd\">май 2017 г.</span>, <span style=\"padding: 2px; border-radius: 4px; border: 1px solid #bbdefb; background: #e3f2fd\">9 мая 2017 года</span></div>"
      ],
      "text/plain": [
       "<IPython.core.display.HTML object>"
      ]
     },
     "metadata": {},
     "output_type": "display_data"
    },
    {
     "data": {
      "text/plain": [
       "[{'year': 2017, 'month': 1, 'day': 24},\n",
       " {'year': 2015},\n",
       " {'year': 2014},\n",
       " {'month': 4, 'day': 1},\n",
       " {'year': 2017, 'month': 5},\n",
       " {'year': 2017, 'month': 5, 'day': 9}]"
      ]
     },
     "metadata": {},
     "output_type": "display_data"
    }
   ],
   "source": [
    "from ipymarkup import show_span_box_markup as show_markup\n",
    "from natasha import MorphVocab\n",
    "from natasha.extractors import DatesExtractor\n",
    "\n",
    "extrator = DatesExtractor(MorphVocab())\n",
    "\n",
    "matches = list(  extrator(text) )\n",
    "show_markup( text, [ (m.start,m.stop) for m in  matches ] )\n",
    "display( [ dict( m.as_json['fact'].as_json ) for m in matches ]  )"
   ]
  },
  {
   "cell_type": "markdown",
   "id": "447fe549",
   "metadata": {},
   "source": [
    "### извлечение адресов "
   ]
  },
  {
   "cell_type": "code",
   "execution_count": 5,
   "id": "4d6d682d",
   "metadata": {},
   "outputs": [],
   "source": [
    "text = \"\"\"Сегодня я поехал с аэропорта Толмачево в Академгородок -- \n",
    "мне нужно было привести посылку из Бостона, США. \n",
    "Мы ехали по Димитровскому мосту, потом свернули на улицу Большевицкую, \n",
    "ехали по ней. Остановились в кафе \"хан-бууз\", что находится по адресу Старое Шоссе 67А. \n",
    "Потом поехали на ул.Николаева 11, заехав по пути на Ляпунова 3\"\"\""
   ]
  },
  {
   "cell_type": "code",
   "execution_count": 6,
   "id": "dc4a65cc",
   "metadata": {},
   "outputs": [
    {
     "data": {
      "text/html": [
       "<div class=\"tex2jax_ignore\" style=\"white-space: pre-wrap\">Сегодня я поехал с аэропорта Толмачево в Академгородок -- \n",
       "мне нужно было привести посылку из Бостона, США. \n",
       "Мы ехали по Димитровскому мосту, потом свернули на <span style=\"padding: 2px; border-radius: 4px; border: 1px solid #bbdefb; background: #e3f2fd\">улицу Большевицкую</span>, \n",
       "ехали по ней. Остановились в кафе &quot;хан-бууз&quot;, что находится по адресу Старое <span style=\"padding: 2px; border-radius: 4px; border: 1px solid #bbdefb; background: #e3f2fd\">Шоссе 67А</span>. \n",
       "Потом поехали на <span style=\"padding: 2px; border-radius: 4px; border: 1px solid #bbdefb; background: #e3f2fd\">ул.Николаева</span> 11, заехав по пути на Ляпунова 3</div>"
      ],
      "text/plain": [
       "<IPython.core.display.HTML object>"
      ]
     },
     "metadata": {},
     "output_type": "display_data"
    },
    {
     "data": {
      "text/plain": [
       "[{'value': 'Большевицкую', 'type': 'улица'},\n",
       " {'value': '67А', 'type': 'шоссе'},\n",
       " {'value': 'Николаева', 'type': 'улица'}]"
      ]
     },
     "metadata": {},
     "output_type": "display_data"
    }
   ],
   "source": [
    "from ipymarkup import show_span_box_markup as show_markup\n",
    "from natasha import MorphVocab\n",
    "from natasha.extractors import AddrExtractor\n",
    "\n",
    "extrator = AddrExtractor(MorphVocab())\n",
    "\n",
    "matches = list(  extrator(text) )\n",
    "show_markup( text, [ (m.start,m.stop) for m in  matches ] )\n",
    "display( [ dict( m.as_json['fact'].as_json ) for m in matches ]  )"
   ]
  },
  {
   "cell_type": "markdown",
   "id": "90e33370",
   "metadata": {},
   "source": [
    "### извлечение записей о денежных суммах "
   ]
  },
  {
   "cell_type": "code",
   "execution_count": 7,
   "id": "e8749fc8",
   "metadata": {},
   "outputs": [],
   "source": [
    "text = '''Узнайте, сколько будет если сегодня и сейчас на дату 16.03.22 \n",
    "совершить обмен суммы в размере 700 тысяч долларов(USD) \n",
    "в гривнах(UAH) по актуальному курсу, устанавливаемому ЦБ РФ. \n",
    "Любые другие суммы для пары USD-UAH можно рассчитать через конвертер.'''"
   ]
  },
  {
   "cell_type": "code",
   "execution_count": 8,
   "id": "e452fb41",
   "metadata": {},
   "outputs": [
    {
     "data": {
      "text/html": [
       "<div class=\"tex2jax_ignore\" style=\"white-space: pre-wrap\">Узнайте, сколько будет если сегодня и сейчас на дату 16.03.22 \n",
       "совершить обмен суммы в размере <span style=\"padding: 2px; border-radius: 4px; border: 1px solid #bbdefb; background: #e3f2fd\">700 тысяч долларов</span>(USD) \n",
       "в гривнах(UAH) по актуальному курсу, устанавливаемому ЦБ РФ. \n",
       "Любые другие суммы для пары USD-UAH можно рассчитать через конвертер.</div>"
      ],
      "text/plain": [
       "<IPython.core.display.HTML object>"
      ]
     },
     "metadata": {},
     "output_type": "display_data"
    },
    {
     "data": {
      "text/plain": [
       "[{'amount': 700000, 'currency': 'USD'}]"
      ]
     },
     "metadata": {},
     "output_type": "display_data"
    }
   ],
   "source": [
    "from ipymarkup import show_span_box_markup as show_markup\n",
    "from natasha import MorphVocab\n",
    "from natasha.extractors import MoneyExtractor\n",
    "\n",
    "extrator = MoneyExtractor(MorphVocab())\n",
    "\n",
    "matches = list(  extrator(text) )\n",
    "show_markup( text, [ (m.start,m.stop) for m in  matches ] )\n",
    "display( [ dict( m.as_json['fact'].as_json ) for m in matches ]  )"
   ]
  },
  {
   "cell_type": "markdown",
   "id": "73eeba80",
   "metadata": {},
   "source": [
    "### используем сложную модель NER-таггера с Embedding"
   ]
  },
  {
   "cell_type": "code",
   "execution_count": 9,
   "id": "349e2a84",
   "metadata": {},
   "outputs": [],
   "source": [
    "text = (\n",
    "'В мероприятии примут участие не только российские учёные,'\n",
    "' но и зарубежные исследователи, в том числе, Крис Хелмбрехт '\n",
    "'- управляющий директор и совладелец креативного агентства'\n",
    "' Kollektiv (Германия, США), Ннека Угбома - руководитель проекта'\n",
    "' Mushroom works (Великобритания), Гергей Ковач - политик и лидер'\n",
    "' субкультурной партии «Dog with two tails» (Венгрия),'\n",
    "' Георг Жено - немецкий режиссёр, один из создателей экспериментального'\n",
    "' театра «Театр.doc», Театра им. Йозефа Бойса (Германия).'\n",
    ")"
   ]
  },
  {
   "cell_type": "code",
   "execution_count": 10,
   "id": "c9924a29",
   "metadata": {},
   "outputs": [
    {
     "data": {
      "text/html": [
       "<div class=\"tex2jax_ignore\" style=\"white-space: pre-wrap\">В мероприятии примут участие не только российские учёные, но и зарубежные исследователи, в том числе, <span style=\"padding: 2px; border-radius: 4px; border: 1px solid #c8e6c9; background: #e8f5e9\">Крис Хелмбрехт<span style=\"vertical-align: middle; margin-left: 2px; font-size: 0.7em; color: #66bb6a;\">PER</span></span> - управляющий директор и совладелец креативного агентства <span style=\"padding: 2px; border-radius: 4px; border: 1px solid #ffcdd2; background: #ffebee\">Kollektiv<span style=\"vertical-align: middle; margin-left: 2px; font-size: 0.7em; color: #e57373;\">ORG</span></span> (<span style=\"padding: 2px; border-radius: 4px; border: 1px solid #ffe0b2; background: #fff3e0\">Германия<span style=\"vertical-align: middle; margin-left: 2px; font-size: 0.7em; color: #ffb74d;\">LOC</span></span>, <span style=\"padding: 2px; border-radius: 4px; border: 1px solid #ffe0b2; background: #fff3e0\">США<span style=\"vertical-align: middle; margin-left: 2px; font-size: 0.7em; color: #ffb74d;\">LOC</span></span>), <span style=\"padding: 2px; border-radius: 4px; border: 1px solid #c8e6c9; background: #e8f5e9\">Ннека Угбома<span style=\"vertical-align: middle; margin-left: 2px; font-size: 0.7em; color: #66bb6a;\">PER</span></span> - руководитель проекта <span style=\"padding: 2px; border-radius: 4px; border: 1px solid #ffcdd2; background: #ffebee\">Mushroom works<span style=\"vertical-align: middle; margin-left: 2px; font-size: 0.7em; color: #e57373;\">ORG</span></span> (<span style=\"padding: 2px; border-radius: 4px; border: 1px solid #ffe0b2; background: #fff3e0\">Великобритания<span style=\"vertical-align: middle; margin-left: 2px; font-size: 0.7em; color: #ffb74d;\">LOC</span></span>), <span style=\"padding: 2px; border-radius: 4px; border: 1px solid #c8e6c9; background: #e8f5e9\">Гергей Ковач<span style=\"vertical-align: middle; margin-left: 2px; font-size: 0.7em; color: #66bb6a;\">PER</span></span> - политик и лидер субкультурной партии «Dog with two tails» (<span style=\"padding: 2px; border-radius: 4px; border: 1px solid #ffe0b2; background: #fff3e0\">Венгрия<span style=\"vertical-align: middle; margin-left: 2px; font-size: 0.7em; color: #ffb74d;\">LOC</span></span>), <span style=\"padding: 2px; border-radius: 4px; border: 1px solid #c8e6c9; background: #e8f5e9\">Георг Жено<span style=\"vertical-align: middle; margin-left: 2px; font-size: 0.7em; color: #66bb6a;\">PER</span></span> - немецкий режиссёр, один из создателей экспериментального театра «<span style=\"padding: 2px; border-radius: 4px; border: 1px solid #ffcdd2; background: #ffebee\">Театр.doc<span style=\"vertical-align: middle; margin-left: 2px; font-size: 0.7em; color: #e57373;\">ORG</span></span>», <span style=\"padding: 2px; border-radius: 4px; border: 1px solid #ffcdd2; background: #ffebee\">Театра им.<span style=\"vertical-align: middle; margin-left: 2px; font-size: 0.7em; color: #e57373;\">ORG</span></span> <span style=\"padding: 2px; border-radius: 4px; border: 1px solid #c8e6c9; background: #e8f5e9\">Йозефа Бойса<span style=\"vertical-align: middle; margin-left: 2px; font-size: 0.7em; color: #66bb6a;\">PER</span></span> (<span style=\"padding: 2px; border-radius: 4px; border: 1px solid #ffe0b2; background: #fff3e0\">Германия<span style=\"vertical-align: middle; margin-left: 2px; font-size: 0.7em; color: #ffb74d;\">LOC</span></span>).</div>"
      ],
      "text/plain": [
       "<IPython.core.display.HTML object>"
      ]
     },
     "metadata": {},
     "output_type": "display_data"
    },
    {
     "data": {
      "text/plain": [
       "[('Крис Хелмбрехт', 'PER'),\n",
       " ('Kollektiv', 'ORG'),\n",
       " ('Германия', 'LOC'),\n",
       " ('США', 'LOC'),\n",
       " ('Ннека Угбома', 'PER'),\n",
       " ('Mushroom works', 'ORG'),\n",
       " ('Великобритания', 'LOC'),\n",
       " ('Гергей Ковач', 'PER'),\n",
       " ('Венгрия', 'LOC'),\n",
       " ('Георг Жено', 'PER'),\n",
       " ('Театр.doc', 'ORG'),\n",
       " ('Театра им.', 'ORG'),\n",
       " ('Йозефа Бойса', 'PER'),\n",
       " ('Германия', 'LOC')]"
      ]
     },
     "metadata": {},
     "output_type": "display_data"
    }
   ],
   "source": [
    "from ipymarkup import show_span_box_markup as show_markup\n",
    "from natasha import Doc\n",
    "from natasha import Segmenter\n",
    "from natasha import NewsNERTagger\n",
    "from natasha import NewsEmbedding\n",
    "\n",
    "doc = Doc(text)\n",
    "doc.segment(Segmenter())\n",
    "doc.tag_ner( NewsNERTagger(NewsEmbedding()) )\n",
    "\n",
    "show_markup(text, doc.ner.spans )\n",
    "display( [ ( text[s.start:s.stop],s.type) for s in doc.ner.spans ] )"
   ]
  },
  {
   "cell_type": "code",
   "execution_count": null,
   "id": "3d8404ea",
   "metadata": {},
   "outputs": [],
   "source": []
  }
 ],
 "metadata": {
  "kernelspec": {
   "display_name": "Python 3 (ipykernel)",
   "language": "python",
   "name": "python3"
  },
  "language_info": {
   "codemirror_mode": {
    "name": "ipython",
    "version": 3
   },
   "file_extension": ".py",
   "mimetype": "text/x-python",
   "name": "python",
   "nbconvert_exporter": "python",
   "pygments_lexer": "ipython3",
   "version": "3.8.9"
  },
  "toc": {
   "base_numbering": 1,
   "nav_menu": {},
   "number_sections": true,
   "sideBar": true,
   "skip_h1_title": false,
   "title_cell": "Table of Contents",
   "title_sidebar": "Contents",
   "toc_cell": false,
   "toc_position": {},
   "toc_section_display": true,
   "toc_window_display": false
  }
 },
 "nbformat": 4,
 "nbformat_minor": 5
}
