{
 "cells": [
  {
   "cell_type": "markdown",
   "metadata": {},
   "source": [
    "**извлечение признаков из текста на естественном языке**\n",
    "\n",
    "word2vec : skip-gram\n",
    "\n",
    "\n",
    "Евгений Борисов <esborisov@sevsu.ru>"
   ]
  },
  {
   "cell_type": "markdown",
   "metadata": {},
   "source": [
    "---"
   ]
  },
  {
   "cell_type": "code",
   "execution_count": 1,
   "metadata": {},
   "outputs": [],
   "source": [
    "import re\n",
    "import gzip\n",
    "import numpy as np\n",
    "from numpy import random as rng"
   ]
  },
  {
   "cell_type": "markdown",
   "metadata": {},
   "source": [
    "## загружаем текст "
   ]
  },
  {
   "cell_type": "code",
   "execution_count": 4,
   "metadata": {},
   "outputs": [
    {
     "name": "stdout",
     "output_type": "stream",
     "text": [
      "символов:601090\n",
      "\n",
      "Вы прилетели в Нью-Йорк и остановились в одном из отелей, глядящих окнами на Центральный парк. Наутро по приезде вы вышли из отеля, вдохнули полной грудью очищенный зеленью парка воздух и, взглянув на часы, - пора было начинать хлопотливый день, - направились к первому из таксомоторов, выстроившихся вереницей у подъезда.\n"
     ]
    }
   ],
   "source": [
    "with gzip.open('../data/text/lobas-taxisty.txt.gz','rt') as f: \n",
    "    text = f.read()[654:]  # ...и выкидываем заголовок\n",
    "print('символов:%i\\n'%(len(text)))\n",
    "print(text[:327].strip())"
   ]
  },
  {
   "cell_type": "markdown",
   "metadata": {},
   "source": [
    "## выполняем токенизацию"
   ]
  },
  {
   "cell_type": "code",
   "execution_count": 2,
   "metadata": {},
   "outputs": [
    {
     "name": "stdout",
     "output_type": "stream",
     "text": [
      "nltk version: 3.6.7\n"
     ]
    }
   ],
   "source": [
    "from nltk import __version__ as nltk_version\n",
    "print('nltk version:',nltk_version)"
   ]
  },
  {
   "cell_type": "code",
   "execution_count": 5,
   "metadata": {},
   "outputs": [
    {
     "name": "stdout",
     "output_type": "stream",
     "text": [
      "предложений: 6627\n",
      "\n"
     ]
    },
    {
     "data": {
      "text/plain": [
       "[['полисменом'],\n",
       " ['спросил',\n",
       "  'шмуэля',\n",
       "  'приглашая',\n",
       "  'его',\n",
       "  'сторонку',\n",
       "  'чтобы',\n",
       "  'нашему',\n",
       "  'разговору',\n",
       "  'не',\n",
       "  'помешали',\n",
       "  'трепачи-кэбби'],\n",
       " ['пять', 'минут', 'десять', 'такси', 'все', 'мчатся', 'мчатся', 'мимо'],\n",
       " ['слушай', 'ты', 'меня', 'не', 'один'],\n",
       " ['он', 'рентует', 'сказал', 'ежик']]"
      ]
     },
     "execution_count": 5,
     "metadata": {},
     "output_type": "execute_result"
    }
   ],
   "source": [
    "from random import sample\n",
    "from nltk.tokenize import sent_tokenize as nltk_sentence_split\n",
    "from nltk.tokenize import word_tokenize as nltk_tokenize_word\n",
    "from nltk.corpus import stopwords as nltk_stopwords\n",
    "\n",
    "stopwords = set() # set(nltk_stopwords.words('russian')) \n",
    "\n",
    "text = [ \n",
    "    [ \n",
    "     t.lower() \n",
    "     for t in nltk_tokenize_word(s) \n",
    "     if re.match(r'[а-я -]+',t.lower()) and len(t)>1 \n",
    "#      if not( (t.lower() in stopwords) or (len(t)<3) ) \n",
    "    ] # разбиваем предложения на слова\n",
    "    for s in nltk_sentence_split(text) # режем текст на отдельные предложения\n",
    "]\n",
    "\n",
    "print('предложений: %i\\n'%(len(text)))\n",
    "\n",
    "sample(text,5)"
   ]
  },
  {
   "cell_type": "code",
   "execution_count": 6,
   "metadata": {},
   "outputs": [],
   "source": [
    "# заменяем слова в тексте их номерами в словаре\n",
    "words = sorted(set(sum(text,[]))) # словарь из текста\n",
    "vocab =  { w:i for i,w in enumerate(words) }"
   ]
  },
  {
   "cell_type": "code",
   "execution_count": 7,
   "metadata": {},
   "outputs": [],
   "source": [
    "del words"
   ]
  },
  {
   "cell_type": "code",
   "execution_count": 8,
   "metadata": {},
   "outputs": [
    {
     "name": "stdout",
     "output_type": "stream",
     "text": [
      "размер словаря: 22195 слов\n"
     ]
    }
   ],
   "source": [
    "n_words = len(vocab) # количество слов в словаре\n",
    "print( \"размер словаря: %i слов\" % n_words )"
   ]
  },
  {
   "cell_type": "markdown",
   "metadata": {},
   "source": [
    "## собираем контексты"
   ]
  },
  {
   "cell_type": "code",
   "execution_count": 9,
   "metadata": {},
   "outputs": [
    {
     "name": "stdout",
     "output_type": "stream",
     "text": [
      "количество n-gram: 54447\n"
     ]
    },
    {
     "data": {
      "text/plain": [
       "[('кожей', 'опасной', 'для', 'кэбби', 'поездки'),\n",
       " ('по', 'второму', 'возьмись', 'обеими', 'руками'),\n",
       " ('перекрестке', 'мы', 'остались', 'полицейским', 'вдвоем'),\n",
       " ('ответе', 'он', 'не', 'употребил', 'ни'),\n",
       " ('то', 'рекламных', 'роликах', 'который', 'тех')]"
      ]
     },
     "execution_count": 9,
     "metadata": {},
     "output_type": "execute_result"
    }
   ],
   "source": [
    "# from nltk.util import bigrams\n",
    "from nltk.util import ngrams as nltk_ngrams\n",
    "\n",
    "# вынимаем все n-gram из текста\n",
    "ngram_len = 5\n",
    "\n",
    "text_ngrams = [ \n",
    "    ngram \n",
    "    for s in text if len(s)>ngram_len\n",
    "    for ngram in nltk_ngrams(s,ngram_len) \n",
    "]\n",
    "print('количество n-gram: %i'%(len(set(text_ngrams))))\n",
    "sample(text_ngrams,5)"
   ]
  },
  {
   "cell_type": "code",
   "execution_count": 10,
   "metadata": {},
   "outputs": [],
   "source": [
    "text_ngrams = sample(text_ngrams,1_000) # сокращаем учебный набор для ускорения процесса"
   ]
  },
  {
   "cell_type": "markdown",
   "metadata": {},
   "source": [
    "### кодируем слова"
   ]
  },
  {
   "cell_type": "code",
   "execution_count": 11,
   "metadata": {},
   "outputs": [
    {
     "data": {
      "text/plain": [
       "((1000, 4), (1000,))"
      ]
     },
     "execution_count": 11,
     "metadata": {},
     "output_type": "execute_result"
    }
   ],
   "source": [
    "T = np.array([ [ vocab[w] for w in ngrams ] for ngrams in text_ngrams ]) # кодируем слова\n",
    "\n",
    "wn = ngram_len//2\n",
    "\n",
    "W = T[:,wn] # коды слов\n",
    "C = np.delete(T,wn,axis=1) # коды слов контекста\n",
    "\n",
    "assert len(C) == len(W)\n",
    "\n",
    "C.shape, W.shape"
   ]
  },
  {
   "cell_type": "code",
   "execution_count": 12,
   "metadata": {},
   "outputs": [],
   "source": [
    "del text_ngrams\n",
    "del text\n",
    "del T"
   ]
  },
  {
   "cell_type": "code",
   "execution_count": 13,
   "metadata": {},
   "outputs": [
    {
     "data": {
      "text/plain": [
       "((1000, 4, 22195), (1000, 22195))"
      ]
     },
     "execution_count": 13,
     "metadata": {},
     "output_type": "execute_result"
    }
   ],
   "source": [
    "# # унитарное кодирование слов (one-hot-encoding)\n",
    "E = np.eye(n_words,dtype=np.int8)\n",
    "\n",
    "Wbin = np.vstack([ E[c] for c in W ])\n",
    "Cbin = np.vstack([ np.vstack([ E[c] for c in Ci ])[np.newaxis,:] for Ci in C ]) \n",
    "\n",
    "Cbin.shape, Wbin.shape"
   ]
  },
  {
   "cell_type": "code",
   "execution_count": 14,
   "metadata": {},
   "outputs": [],
   "source": [
    "del W\n",
    "del C"
   ]
  },
  {
   "cell_type": "markdown",
   "metadata": {},
   "source": [
    "## строим модель Skip-Gram"
   ]
  },
  {
   "cell_type": "code",
   "execution_count": 27,
   "metadata": {},
   "outputs": [],
   "source": [
    "# будем по контексту предсказывать слово"
   ]
  },
  {
   "cell_type": "code",
   "execution_count": 15,
   "metadata": {},
   "outputs": [],
   "source": [
    "# ф-ция активации скрытого слоя - линейная\n",
    "# def act(s): return s\n",
    "\n",
    "# ф-ция активации выходного слоя\n",
    "def softmax(s): \n",
    "    e = np.exp(s)\n",
    "    return e/e.sum(axis=1).reshape(s.shape[0],1)"
   ]
  },
  {
   "cell_type": "code",
   "execution_count": 16,
   "metadata": {},
   "outputs": [],
   "source": [
    "def w2v_step(W,Vi,Vo):\n",
    "    H = W.dot(Vi) # значения скрытого слоя\n",
    "    U = H.dot(Vo) # состояния выходного слоя\n",
    "    O = softmax(U) # выход сети\n",
    "    return H,U,O\n"
   ]
  },
  {
   "cell_type": "markdown",
   "metadata": {},
   "source": [
    "Функция потери\n",
    "\n",
    "$$E = \\left| \\sum\\limits_i\\log\\left( \\sum\\limits_k \\exp(U_{ik}) \\right) - \\sum\\limits_i\\sum\\limits_k\\sum\\limits_j (U_{ik} * Q_{ijk}) \\right| $$\n",
    "\n",
    "\n",
    "$U_{ik}$ состояние k-того нейрона выходного слоя для слова $i$     \n",
    "$Q_{ij}$ слово $j$ контекста слова $i$   \n",
    "где ∗ - операция поэлементного умножения векторов"
   ]
  },
  {
   "cell_type": "code",
   "execution_count": 17,
   "metadata": {},
   "outputs": [],
   "source": [
    "def w2v_loss(U,C):\n",
    "    n,cws,v = C.shape \n",
    "    # количество примеров\n",
    "    # размер окна контекста   \n",
    "    # количество слов в словаре\n",
    "\n",
    "    Us = np.log( np.exp(U).sum(axis=1) ).sum()\n",
    "\n",
    "    Uo = 0.0\n",
    "    for i in range(cws): # для всех слов контекста\n",
    "        Ci = C[:,i,:].reshape([n,v]) # набор слов контекста i\n",
    "        Uo += (U*Ci).sum() # значения выходного слоя для слов x контекста i\n",
    "\n",
    "    return np.abs(Us-Uo)/n"
   ]
  },
  {
   "cell_type": "code",
   "execution_count": 18,
   "metadata": {},
   "outputs": [],
   "source": [
    "def w2v_grad(C,W,H,O,Vo):\n",
    "    n,cws,v = C.shape\n",
    "        # количество примеров\n",
    "        # размер окна контекста   \n",
    "        # количество слов в словаре\n",
    "\n",
    "    gVi = gVo = 0.0 \n",
    "\n",
    "    for i in range(cws):\n",
    "        Ci = C[:,i,:].reshape([n,v]) # слово i контекста\n",
    "        D = O - Ci # ошибка на слове контекста i\n",
    "        gVo += D.T.dot(H).T\n",
    "        gVi += W.T.dot(D).dot(Vo.T)\n",
    "\n",
    "    return gVi,gVo"
   ]
  },
  {
   "cell_type": "code",
   "execution_count": 19,
   "metadata": {},
   "outputs": [],
   "source": [
    "def w2v_weigth_norm(v,w):\n",
    "    nn = np.linalg.norm( np.hstack([ v.flatten(), w.flatten() ]) )\n",
    "    #nn = np.abs( np.hstack([ v.flatten(), w.flatten() ]) ).max()\n",
    "    return (v/nn,w/nn) if nn!=0.0 else (v,w)"
   ]
  },
  {
   "cell_type": "markdown",
   "metadata": {},
   "source": [
    "### обучаем модель"
   ]
  },
  {
   "cell_type": "code",
   "execution_count": 20,
   "metadata": {},
   "outputs": [],
   "source": [
    "n = Wbin.shape[1] # количество слов в словаре\n",
    "k = 30 # размер скрытого слоя H\n",
    "\n",
    "Vi = rng.normal(scale=.01,size=(n,k))\n",
    "Vo = rng.normal(scale=.01,size=(k,n))"
   ]
  },
  {
   "cell_type": "code",
   "execution_count": 21,
   "metadata": {},
   "outputs": [
    {
     "name": "stdout",
     "output_type": "stream",
     "text": [
      "1 10.007608172486618\n",
      "2 10.003057910201477\n",
      "3 9.994591355837711\n",
      "4 9.979137914476407\n",
      "5 9.954991928803315\n",
      "6 9.921173659905861\n",
      "7 9.877113710278605\n",
      "8 9.822454168474657\n",
      "9 9.75695705126269\n",
      "10 9.680465467676257\n",
      "11 9.592903883462656\n",
      "12 9.494354634505987\n",
      "13 9.385383584183709\n",
      "14 9.268018691458188\n",
      "15 9.148588774357972\n",
      "16 9.032865907036221\n",
      "17 8.912279443581356\n",
      "18 8.790837364620847\n",
      "19 8.662486816683831\n",
      "20 8.531249505256403\n",
      "21 8.394591550540333\n",
      "22 8.25485777356277\n",
      "23 8.110755746287388\n",
      "24 7.963520008517788\n",
      "25 7.812428541030236\n",
      "26 7.658189512944098\n",
      "27 7.500839713327542\n",
      "28 7.341058683010376\n",
      "29 7.178955031246639\n",
      "30 7.014658917330326\n",
      "31 6.848205608345062\n",
      "32 6.67987905606326\n",
      "33 6.510042332434998\n",
      "34 6.339116560253408\n",
      "35 6.167483772395991\n",
      "36 5.995487606590595\n",
      "37 5.823382654103596\n",
      "38 5.6513093224495\n",
      "39 5.479310723117533\n",
      "40 5.307404072732535\n",
      "41 5.135648770699531\n",
      "42 4.964184173139797\n",
      "43 4.793222300066258\n",
      "44 4.6230066647159695\n",
      "45 4.453753002737789\n",
      "46 4.285594042861668\n",
      "47 4.118546615759442\n",
      "48 3.9525071946642383\n",
      "49 3.7872728347591047\n",
      "50 3.6225825668089757\n",
      "51 3.4581667543806054\n",
      "52 3.2937879717799734\n",
      "53 3.1292642865925817\n",
      "54 2.9644755563954894\n",
      "55 2.799358543012917\n",
      "56 2.6338975410020904\n",
      "57 2.4681144127010612\n",
      "58 2.302057504219474\n",
      "59 2.1357855187158874\n",
      "60 1.969344672720441\n",
      "61 1.8027481141302633\n",
      "62 1.6359733551969258\n",
      "63 1.4689804372992767\n",
      "64 1.3017341051725744\n",
      "65 1.134210877873211\n",
      "66 0.9663872491971651\n",
      "67 0.7982266766371467\n",
      "68 0.6296857665146126\n",
      "69 0.4607355047422752\n",
      "70 0.2913789970073121\n",
      "71 0.12165654146464294\n",
      "72 0.04836139836362963\n",
      "73 0.21858928723081045\n",
      "CPU times: user 2h 42min 54s, sys: 5min 7s, total: 2h 48min 1s\n",
      "Wall time: 43min 34s\n"
     ]
    }
   ],
   "source": [
    "%%time\n",
    "\n",
    "a = .91 # скорость обучения\n",
    "\n",
    "er = [1e10]\n",
    "\n",
    "n_steps = 100\n",
    "\n",
    "for i in range(n_steps):\n",
    "    H,U,O = w2v_step(Wbin,Vi,Vo) # вычисляем состояния слоёв и выход\n",
    "    er.append(w2v_loss(U,Cbin)) # вычисляем ошибку\n",
    "    print(i+1, er[-1])\n",
    "    if er[-1]>er[-2]: \n",
    "        Vi, Vo = Vi_old, Vo_old\n",
    "        break\n",
    "        \n",
    "    gVi, gVo = w2v_grad(Cbin,Wbin,H,O,Vo) # вычисляем градиент ф-ции потери\n",
    "    gVi,gVo = w2v_weigth_norm(gVi,gVo) # нормируем значения градиента\n",
    "    \n",
    "    Vi_old, Vo_old =  Vi, Vo # сохраняем старые веса\n",
    "    \n",
    "    Vi,Vo = Vi-a*gVi, Vo-a*gVo # корректируем веса"
   ]
  },
  {
   "cell_type": "code",
   "execution_count": 22,
   "metadata": {},
   "outputs": [
    {
     "data": {
      "image/png": "[encoded data removed]",
      "text/plain": [
       "<Figure size 432x288 with 1 Axes>"
      ]
     },
     "metadata": {
      "needs_background": "light"
     },
     "output_type": "display_data"
    }
   ],
   "source": [
    "from matplotlib import pyplot as plt\n",
    "\n",
    "er=er[1:]\n",
    "plt.plot(er)\n",
    "plt.grid()\n",
    "plt.show()"
   ]
  },
  {
   "cell_type": "markdown",
   "metadata": {},
   "source": [
    "## оцениваем результат"
   ]
  },
  {
   "cell_type": "code",
   "execution_count": 23,
   "metadata": {},
   "outputs": [],
   "source": [
    "from sklearn.metrics.pairwise import pairwise_distances"
   ]
  },
  {
   "cell_type": "code",
   "execution_count": 24,
   "metadata": {},
   "outputs": [],
   "source": [
    "D = pairwise_distances(Vi) # матрица расстояний\n",
    "R = np.argsort(D) # номера слов в порядке увеличения расстояния"
   ]
  },
  {
   "cell_type": "code",
   "execution_count": 25,
   "metadata": {},
   "outputs": [],
   "source": [
    "from numpy import random as rng"
   ]
  },
  {
   "cell_type": "code",
   "execution_count": 26,
   "metadata": {},
   "outputs": [
    {
     "data": {
      "text/plain": [
       "{'отправились': ['сын', 'фильмах', 'дерзил', 'отмазал'],\n",
       " 'упадет': ['пропусти', 'нежное', 'тормознуть', 'направления'],\n",
       " 'творение': ['шпаргалка', 'сигналит', 'убирала', 'пирамиду'],\n",
       " 'погас': ['свежевымытый', 'водится', 'несравненно', 'полюбопытствовал'],\n",
       " 'высунулась': ['прятавшегося', 'вставил', 'операцию', 'данным'],\n",
       " 'торжественность': ['выгодная', 'ресторанчики', 'обочине', 'пятую'],\n",
       " 'лимон': ['складу', 'напомнила', 'намучался', 'описывая'],\n",
       " 'снизил': ['ручкой', 'сыном', 'наркотики', 'зависимости'],\n",
       " 'стоила': ['навес', 'откликнулась', 'группе', 'итальянец'],\n",
       " 'бампером': ['мальчишке', 'невыразительное', 'карьера', 'родителей'],\n",
       " 'напоминал': ['орды', 'гаражной', 'установки', 'еврейская'],\n",
       " 'наезженные': ['рисует', 'режиссером', 'новеллы', 'подготовил'],\n",
       " 'выдохнул': ['стелился', 'помимо', 'сушиться', 'понимая'],\n",
       " 'ла-гвардейцев': ['стране', 'кофты', 'пророчествовал', 'тихой'],\n",
       " 'стойте': ['колесико', 'ламп', 'видимым', 'старичок'],\n",
       " 'бродвеем': ['царапающий', 'свежевымытый', 'повышенные', 'отговорку'],\n",
       " 'удержан': ['содрогнулся', 'выскажется', 'безумный', 'всячине'],\n",
       " 'играли': ['раззолоченных', 'спекуляции', 'свежевымытый', 'впредь'],\n",
       " 'кровью': ['отъехал', 'заработали', 'весел', 'занудливый'],\n",
       " 'выкуси': ['впускать', 'шмуэль', 'заявлением', 'колледже']}"
      ]
     },
     "execution_count": 26,
     "metadata": {},
     "output_type": "execute_result"
    }
   ],
   "source": [
    "vocab_ = { v:k for k,v in vocab.items() } # нумеруем слов в словаре\n",
    "\n",
    "nn = rng.permutation(len(vocab))[:20] # выбираем случайно N слов\n",
    "\n",
    "# для выбранных слов печатаем близкие по w2v\n",
    "{ vocab_[i] : [ vocab_[j] for j in  R[i,1:5]  ] for i in nn }"
   ]
  }
 ],
 "metadata": {
  "kernelspec": {
   "display_name": "Python 3 (ipykernel)",
   "language": "python",
   "name": "python3"
  },
  "language_info": {
   "codemirror_mode": {
    "name": "ipython",
    "version": 3
   },
   "file_extension": ".py",
   "mimetype": "text/x-python",
   "name": "python",
   "nbconvert_exporter": "python",
   "pygments_lexer": "ipython3",
   "version": "3.8.9"
  },
  "toc": {
   "base_numbering": 1,
   "nav_menu": {},
   "number_sections": true,
   "sideBar": true,
   "skip_h1_title": false,
   "title_cell": "Table of Contents",
   "title_sidebar": "Contents",
   "toc_cell": false,
   "toc_position": {},
   "toc_section_display": true,
   "toc_window_display": false
  }
 },
 "nbformat": 4,
 "nbformat_minor": 2
}
