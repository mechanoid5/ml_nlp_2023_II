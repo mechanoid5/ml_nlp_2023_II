{
 "cells": [
  {
   "cell_type": "markdown",
   "metadata": {},
   "source": [
    "**извлечение признаков из текста на естественном языке**\n",
    "\n",
    "word2vec : skip-gram\n",
    "\n",
    "\n",
    "Евгений Борисов <esborisov@sevsu.ru>"
   ]
  },
  {
   "cell_type": "markdown",
   "metadata": {},
   "source": [
    "---"
   ]
  },
  {
   "cell_type": "code",
   "execution_count": 1,
   "metadata": {},
   "outputs": [],
   "source": [
    "import re\n",
    "import gzip\n",
    "import numpy as np\n",
    "from numpy import random as rng"
   ]
  },
  {
   "cell_type": "markdown",
   "metadata": {},
   "source": [
    "## загружаем текст "
   ]
  },
  {
   "cell_type": "code",
   "execution_count": 2,
   "metadata": {},
   "outputs": [],
   "source": [
    "# import urllib\n",
    "\n",
    "# url='http://lib.ru/NEWPROZA/LOBAS/taxisty.txt'\n",
    "# text = urllib.open(url).read()\n",
    "# print(text)"
   ]
  },
  {
   "cell_type": "code",
   "execution_count": 3,
   "metadata": {},
   "outputs": [
    {
     "name": "stdout",
     "output_type": "stream",
     "text": [
      "\n",
      "\n",
      "\n",
      "           ЖЕЛТЫЕ КОРОЛИ \n",
      "     Записки нью-йоркского таксиста\n",
      "\n",
      "\n",
      "     Товарищам моим -- белым и черным, американцам и эмигрантам  из России и\n",
      "Израиля,  из  Греции  и  Кореи,  арабам,  китайцам,  полякам  и всем  прочим\n",
      "таксистам города  Нью-Йорк  в знак глубокого  уважения к  их нечеловеческому\n",
      "труду эту горькую книгу посвящаю...\n",
      "\n",
      "     Водитель No 320718\n",
      "   \n"
     ]
    }
   ],
   "source": [
    "import requests\n",
    "from bs4 import BeautifulSoup\n",
    "\n",
    "url='http://lib.ru/NEWPROZA/LOBAS/taxisty.txt'\n",
    "text = BeautifulSoup(requests.get(url).text).get_text()\n",
    "with open('taxisty.txt','wt') as f: f.write(text)\n",
    "text = text[322:-7261] # выкидываем заголовок и хвост страницы \n",
    "print(text[:362])"
   ]
  },
  {
   "cell_type": "code",
   "execution_count": 4,
   "metadata": {},
   "outputs": [],
   "source": [
    "# with gzip.open('../data/text/lobas-taxisty.txt.gz','rt') as f: \n",
    "#     text = f.read()[654:]  # ...и выкидываем заголовок\n",
    "# print('символов:%i\\n'%(len(text)))\n",
    "# print(text[:327].strip())"
   ]
  },
  {
   "cell_type": "markdown",
   "metadata": {},
   "source": [
    "## выполняем токенизацию"
   ]
  },
  {
   "cell_type": "code",
   "execution_count": 5,
   "metadata": {},
   "outputs": [
    {
     "name": "stdout",
     "output_type": "stream",
     "text": [
      "nltk version: 3.8.1\n"
     ]
    }
   ],
   "source": [
    "from nltk import __version__ as nltk_version\n",
    "print('nltk version:',nltk_version)"
   ]
  },
  {
   "cell_type": "code",
   "execution_count": 6,
   "metadata": {},
   "outputs": [
    {
     "name": "stdout",
     "output_type": "stream",
     "text": [
      "предложений: 6686\n",
      "\n"
     ]
    },
    {
     "data": {
      "text/plain": [
       "[['по',\n",
       "  'правилам',\n",
       "  'дверцы',\n",
       "  'пассажирского',\n",
       "  'салона',\n",
       "  'всегда',\n",
       "  'должны',\n",
       "  'быть',\n",
       "  'открыты',\n",
       "  'но',\n",
       "  'кэбби-аристократ',\n",
       "  'придерживался',\n",
       "  'противоположного',\n",
       "  'мнения',\n",
       "  'по',\n",
       "  'этому',\n",
       "  'поводу',\n",
       "  '--',\n",
       "  'все',\n",
       "  'четыре',\n",
       "  'дверцы',\n",
       "  'твоего',\n",
       "  'кэба',\n",
       "  'должны',\n",
       "  'быть',\n",
       "  'постоянно',\n",
       "  'закрыты',\n",
       "  'на',\n",
       "  'замки'],\n",
       " ['позвать', 'полицию'],\n",
       " ['так',\n",
       "  'значит',\n",
       "  'нужно',\n",
       "  'запустить',\n",
       "  'еще',\n",
       "  'три',\n",
       "  'тачки',\n",
       "  'засадить',\n",
       "  'еще',\n",
       "  'девять',\n",
       "  'водил',\n",
       "  'пусть',\n",
       "  'работают'],\n",
       " ['такая',\n",
       "  'же',\n",
       "  'рука',\n",
       "  'только',\n",
       "  'из',\n",
       "  'синих',\n",
       "  'не',\n",
       "  'из',\n",
       "  'красных',\n",
       "  'трубок',\n",
       "  'мерцала',\n",
       "  'окне',\n",
       "  'дома',\n",
       "  'которого',\n",
       "  'мы',\n",
       "  'оста-новились'],\n",
       " ['--',\n",
       "  'началась',\n",
       "  'заново',\n",
       "  'южном',\n",
       "  'бронксе',\n",
       "  'конторе',\n",
       "  'майкла',\n",
       "  'росса',\n",
       "  'встретился',\n",
       "  'моим',\n",
       "  'будущим',\n",
       "  'партнером',\n",
       "  'стивом',\n",
       "  'таксистом',\n",
       "  'который',\n",
       "  'десять',\n",
       "  'лет',\n",
       "  'оттрубил',\n",
       "  'за',\n",
       "  'баранкой',\n",
       "  'гаражного',\n",
       "  'кэба',\n",
       "  'собирая',\n",
       "  'восемнадцать',\n",
       "  'тысяч',\n",
       "  'на',\n",
       "  'первый',\n",
       "  'взнос',\n",
       "  '--',\n",
       "  'мы',\n",
       "  'поставили',\n",
       "  'свои',\n",
       "  'залихватские',\n",
       "  'подписи',\n",
       "  'под',\n",
       "  'бумагами',\n",
       "  'которые',\n",
       "  'свидетельствовали',\n",
       "  'что',\n",
       "  'отныне',\n",
       "  'медальон',\n",
       "  'принадлежит',\n",
       "  'стиву',\n",
       "  '--',\n",
       "  'мне']]"
      ]
     },
     "execution_count": 6,
     "metadata": {},
     "output_type": "execute_result"
    }
   ],
   "source": [
    "from random import sample\n",
    "from nltk.tokenize import sent_tokenize as nltk_sentence_split\n",
    "from nltk.tokenize import word_tokenize as nltk_tokenize_word\n",
    "from nltk.corpus import stopwords as nltk_stopwords\n",
    "\n",
    "stopwords = set() # set(nltk_stopwords.words('russian')) \n",
    "\n",
    "text = [ \n",
    "    [ \n",
    "     t.lower() \n",
    "     for t in nltk_tokenize_word(s) \n",
    "     if re.match(r'[а-я -]+',t.lower()) and len(t)>1 \n",
    "#      if not( (t.lower() in stopwords) or (len(t)<3) ) \n",
    "    ] # разбиваем предложения на слова\n",
    "    for s in nltk_sentence_split(text) # режем текст на отдельные предложения\n",
    "]\n",
    "\n",
    "print('предложений: %i\\n'%(len(text)))\n",
    "\n",
    "sample(text,5)"
   ]
  },
  {
   "cell_type": "code",
   "execution_count": 7,
   "metadata": {},
   "outputs": [],
   "source": [
    "# заменяем слова в тексте их номерами в словаре\n",
    "words = sorted(set(sum(text,[]))) # словарь из текста\n",
    "vocab =  { w:i for i,w in enumerate(words) }"
   ]
  },
  {
   "cell_type": "code",
   "execution_count": 8,
   "metadata": {},
   "outputs": [],
   "source": [
    "del words"
   ]
  },
  {
   "cell_type": "code",
   "execution_count": 9,
   "metadata": {},
   "outputs": [
    {
     "name": "stdout",
     "output_type": "stream",
     "text": [
      "размер словаря: 22062 слов\n"
     ]
    }
   ],
   "source": [
    "n_words = len(vocab) # количество слов в словаре\n",
    "print( \"размер словаря: %i слов\" % n_words )"
   ]
  },
  {
   "cell_type": "markdown",
   "metadata": {},
   "source": [
    "## собираем контексты"
   ]
  },
  {
   "cell_type": "code",
   "execution_count": 10,
   "metadata": {},
   "outputs": [
    {
     "name": "stdout",
     "output_type": "stream",
     "text": [
      "количество n-gram: 57205\n"
     ]
    },
    {
     "data": {
      "text/plain": [
       "[('--', 'вы', 'подумайте', 'меня', 'ведут'),\n",
       " ('толкотней', 'повалили', 'внутрь', '--', 'эй'),\n",
       " ('унижать', 'пожилого', 'человека', 'полуизвиняясь', 'заключенный'),\n",
       " ('вторую', 'часть', '--', 'хозяева', 'сколько'),\n",
       " ('сейчас', 'этот', 'колизей', 'плакала', 'моя')]"
      ]
     },
     "execution_count": 10,
     "metadata": {},
     "output_type": "execute_result"
    }
   ],
   "source": [
    "# from nltk.util import bigrams\n",
    "from nltk.util import ngrams as nltk_ngrams\n",
    "\n",
    "# вынимаем все n-gram из текста\n",
    "ngram_len = 5\n",
    "\n",
    "text_ngrams = [ \n",
    "    ngram \n",
    "    for s in text if len(s)>ngram_len\n",
    "    for ngram in nltk_ngrams(s,ngram_len) \n",
    "]\n",
    "print('количество n-gram: %i'%(len(set(text_ngrams))))\n",
    "sample(text_ngrams,5)"
   ]
  },
  {
   "cell_type": "code",
   "execution_count": 11,
   "metadata": {},
   "outputs": [],
   "source": [
    "text_ngrams = sample(text_ngrams,1_000) # сокращаем учебный набор для ускорения процесса"
   ]
  },
  {
   "cell_type": "markdown",
   "metadata": {},
   "source": [
    "### кодируем слова"
   ]
  },
  {
   "cell_type": "code",
   "execution_count": 12,
   "metadata": {},
   "outputs": [
    {
     "data": {
      "text/plain": [
       "((1000, 4), (1000,))"
      ]
     },
     "execution_count": 12,
     "metadata": {},
     "output_type": "execute_result"
    }
   ],
   "source": [
    "T = np.array([ [ vocab[w] for w in ngrams ] for ngrams in text_ngrams ]) # кодируем слова\n",
    "\n",
    "wn = ngram_len//2\n",
    "\n",
    "W = T[:,wn] # коды слов\n",
    "C = np.delete(T,wn,axis=1) # коды слов контекста\n",
    "\n",
    "assert len(C) == len(W)\n",
    "\n",
    "C.shape, W.shape"
   ]
  },
  {
   "cell_type": "code",
   "execution_count": 13,
   "metadata": {},
   "outputs": [],
   "source": [
    "del text_ngrams\n",
    "del text\n",
    "del T"
   ]
  },
  {
   "cell_type": "code",
   "execution_count": 14,
   "metadata": {},
   "outputs": [
    {
     "data": {
      "text/plain": [
       "((1000, 4, 22062), (1000, 22062))"
      ]
     },
     "execution_count": 14,
     "metadata": {},
     "output_type": "execute_result"
    }
   ],
   "source": [
    "# # унитарное кодирование слов (one-hot-encoding)\n",
    "E = np.eye(n_words,dtype=np.int8)\n",
    "\n",
    "Wbin = np.vstack([ E[c] for c in W ])\n",
    "Cbin = np.vstack([ np.vstack([ E[c] for c in Ci ])[np.newaxis,:] for Ci in C ]) \n",
    "\n",
    "Cbin.shape, Wbin.shape"
   ]
  },
  {
   "cell_type": "code",
   "execution_count": 15,
   "metadata": {},
   "outputs": [],
   "source": [
    "del W\n",
    "del C"
   ]
  },
  {
   "cell_type": "markdown",
   "metadata": {},
   "source": [
    "## строим модель Skip-Gram"
   ]
  },
  {
   "cell_type": "code",
   "execution_count": 16,
   "metadata": {},
   "outputs": [],
   "source": [
    "# будем по контексту предсказывать слово"
   ]
  },
  {
   "cell_type": "code",
   "execution_count": 17,
   "metadata": {},
   "outputs": [],
   "source": [
    "# ф-ция активации скрытого слоя - линейная\n",
    "# def act(s): return s\n",
    "\n",
    "# ф-ция активации выходного слоя\n",
    "def softmax(s): \n",
    "    e = np.exp(s)\n",
    "    return e/e.sum(axis=1).reshape(s.shape[0],1)"
   ]
  },
  {
   "cell_type": "code",
   "execution_count": 18,
   "metadata": {},
   "outputs": [],
   "source": [
    "def w2v_step(W,Vi,Vo):\n",
    "    H = W.dot(Vi) # значения скрытого слоя\n",
    "    U = H.dot(Vo) # состояния выходного слоя\n",
    "    O = softmax(U) # выход сети\n",
    "    return H,U,O\n"
   ]
  },
  {
   "cell_type": "markdown",
   "metadata": {},
   "source": [
    "Функция потери\n",
    "\n",
    "$$E = \\left| \\sum\\limits_i\\log\\left( \\sum\\limits_k \\exp(U_{ik}) \\right) - \\sum\\limits_i\\sum\\limits_k\\sum\\limits_j (U_{ik} * Q_{ijk}) \\right| $$\n",
    "\n",
    "\n",
    "$U_{ik}$ состояние k-того нейрона выходного слоя для слова $i$     \n",
    "$Q_{ij}$ слово $j$ контекста слова $i$   \n",
    "где ∗ - операция поэлементного умножения векторов"
   ]
  },
  {
   "cell_type": "code",
   "execution_count": 19,
   "metadata": {},
   "outputs": [],
   "source": [
    "def w2v_loss(U,C):\n",
    "    n,cws,v = C.shape \n",
    "    # количество примеров\n",
    "    # размер окна контекста   \n",
    "    # количество слов в словаре\n",
    "\n",
    "    Us = np.log( np.exp(U).sum(axis=1) ).sum()\n",
    "\n",
    "    Uo = 0.0\n",
    "    for i in range(cws): # для всех слов контекста\n",
    "        Ci = C[:,i,:].reshape([n,v]) # набор слов контекста i\n",
    "        Uo += (U*Ci).sum() # значения выходного слоя для слов x контекста i\n",
    "\n",
    "    return np.abs(Us-Uo)/n"
   ]
  },
  {
   "cell_type": "code",
   "execution_count": 20,
   "metadata": {},
   "outputs": [],
   "source": [
    "def w2v_grad(C,W,H,O,Vo):\n",
    "    n,cws,v = C.shape\n",
    "        # количество примеров\n",
    "        # размер окна контекста   \n",
    "        # количество слов в словаре\n",
    "\n",
    "    gVi = gVo = 0.0 \n",
    "\n",
    "    for i in range(cws):\n",
    "        Ci = C[:,i,:].reshape([n,v]) # слово i контекста\n",
    "        D = O - Ci # ошибка на слове контекста i\n",
    "        gVo += D.T.dot(H).T\n",
    "        gVi += W.T.dot(D).dot(Vo.T)\n",
    "\n",
    "    return gVi,gVo"
   ]
  },
  {
   "cell_type": "code",
   "execution_count": 21,
   "metadata": {},
   "outputs": [],
   "source": [
    "def w2v_weigth_norm(v,w):\n",
    "    nn = np.linalg.norm( np.hstack([ v.flatten(), w.flatten() ]) )\n",
    "    #nn = np.abs( np.hstack([ v.flatten(), w.flatten() ]) ).max()\n",
    "    return (v/nn,w/nn) if nn!=0.0 else (v,w)"
   ]
  },
  {
   "cell_type": "markdown",
   "metadata": {},
   "source": [
    "### обучаем модель"
   ]
  },
  {
   "cell_type": "code",
   "execution_count": 22,
   "metadata": {},
   "outputs": [],
   "source": [
    "n = Wbin.shape[1] # количество слов в словаре\n",
    "k = 30 # размер скрытого слоя H\n",
    "\n",
    "Vi = rng.normal(scale=.01,size=(n,k))\n",
    "Vo = rng.normal(scale=.01,size=(k,n))"
   ]
  },
  {
   "cell_type": "code",
   "execution_count": 23,
   "metadata": {},
   "outputs": [],
   "source": [
    "from tqdm.auto import tqdm"
   ]
  },
  {
   "cell_type": "code",
   "execution_count": 24,
   "metadata": {},
   "outputs": [
    {
     "data": {
      "application/vnd.jupyter.widget-view+json": {
       "model_id": "b1d806874b814cb78325dc8d20e71701",
       "version_major": 2,
       "version_minor": 0
      },
      "text/plain": [
       "  0%|          | 0/50 [00:00<?, ?it/s]"
      ]
     },
     "metadata": {},
     "output_type": "display_data"
    },
    {
     "name": "stdout",
     "output_type": "stream",
     "text": [
      "CPU times: user 58min 29s, sys: 2min 48s, total: 1h 1min 18s\n",
      "Wall time: 16min 17s\n"
     ]
    }
   ],
   "source": [
    "%%time\n",
    "\n",
    "a = .91 # скорость обучения\n",
    "\n",
    "er = [1e10]\n",
    "\n",
    "n_steps = 50\n",
    "\n",
    "for i in tqdm(range(n_steps)):\n",
    "    H,U,O = w2v_step(Wbin,Vi,Vo) # вычисляем состояния слоёв и выход\n",
    "    er.append(w2v_loss(U,Cbin)) # вычисляем ошибку\n",
    "    #print(i+1, er[-1])\n",
    "    if er[-1]>er[-2]: \n",
    "        Vi, Vo = Vi_old, Vo_old\n",
    "        break\n",
    "        \n",
    "    gVi, gVo = w2v_grad(Cbin,Wbin,H,O,Vo) # вычисляем градиент ф-ции потери\n",
    "    gVi,gVo = w2v_weigth_norm(gVi,gVo) # нормируем значения градиента\n",
    "    \n",
    "    Vi_old, Vo_old =  Vi, Vo # сохраняем старые веса\n",
    "    \n",
    "    Vi,Vo = Vi-a*gVi, Vo-a*gVo # корректируем веса"
   ]
  },
  {
   "cell_type": "code",
   "execution_count": 25,
   "metadata": {},
   "outputs": [
    {
     "data": {
      "image/png": "[encoded data removed]",
      "text/plain": [
       "<Figure size 640x480 with 1 Axes>"
      ]
     },
     "metadata": {},
     "output_type": "display_data"
    }
   ],
   "source": [
    "from matplotlib import pyplot as plt\n",
    "\n",
    "er=er[1:]\n",
    "plt.plot(er)\n",
    "plt.grid()\n",
    "plt.show()"
   ]
  },
  {
   "cell_type": "markdown",
   "metadata": {},
   "source": [
    "## оцениваем результат"
   ]
  },
  {
   "cell_type": "code",
   "execution_count": 26,
   "metadata": {},
   "outputs": [],
   "source": [
    "from sklearn.metrics.pairwise import pairwise_distances"
   ]
  },
  {
   "cell_type": "code",
   "execution_count": 27,
   "metadata": {},
   "outputs": [],
   "source": [
    "D = pairwise_distances(Vi) # матрица расстояний\n",
    "R = np.argsort(D) # номера слов в порядке увеличения расстояния"
   ]
  },
  {
   "cell_type": "code",
   "execution_count": 28,
   "metadata": {},
   "outputs": [],
   "source": [
    "from numpy import random as rng"
   ]
  },
  {
   "cell_type": "code",
   "execution_count": 29,
   "metadata": {},
   "outputs": [
    {
     "data": {
      "text/plain": [
       "{'дюжины': ['добредешь', 'заднему', 'потянула', 'особнячок'],\n",
       " 'полям': ['какую', 'зарабатываем', 'послушался', 'вдали'],\n",
       " 'крови': ['коллега', 'защиты', 'незарегистрированный', 'понятно'],\n",
       " 'всматриваясь': ['осторожно', 'бублик', 'уплатил', 'впечатление'],\n",
       " 'воробей': ['станция', 'кислородом', 'эдаким', 'мистеру'],\n",
       " 'начинала': ['веря', 'посматривает', 'лету', 'отправляйся'],\n",
       " 'босса': ['лонг-айленде', 'выключил', 'изолгавшисьнакорню', 'проигрывал'],\n",
       " 'жуликоватые': ['сквалыгу-старушку', 'фултон-стрит', 'передохнув', 'рекой'],\n",
       " 'перепрыгивая': ['рубль', 'собеседника', 'исчезнувший', 'направление'],\n",
       " 'заработает': ['умолкли', 'темно-красную', 'карнеги-холл', 'договариваться'],\n",
       " 'успокоились': ['убежденные', 'триада', 'требуемая', 'прочесать'],\n",
       " 'дорожными': ['простоты', 'возвращаюсь', 'разговаривать', 'кольнул'],\n",
       " 'дураков': ['избаловать', 'порции', 'наткнулся', 'пожарной'],\n",
       " 'получают': ['усаживают', 'стандартный', 'кого-нибудь', 'тормозных'],\n",
       " 'протянувшейся': ['загнул', 'списком', 'фуражках', 'оперировать'],\n",
       " 'смешная': ['поглощен', 'богатую', 'допросов', 'игральные'],\n",
       " 'по-солдатски': ['судья-то', 'согнувшись', 'намек', 'аккуратному'],\n",
       " 'московского': ['бросились', 'направился', 'тремя', 'формулировок'],\n",
       " 'плавать': ['морду', 'доджа', 'пирожное', 'друга'],\n",
       " 'открыли': ['уйти', 'прогоните', 'гидранта', 'привилегии']}"
      ]
     },
     "execution_count": 29,
     "metadata": {},
     "output_type": "execute_result"
    }
   ],
   "source": [
    "vocab_ = { v:k for k,v in vocab.items() } # нумеруем слов в словаре\n",
    "\n",
    "nn = rng.permutation(len(vocab))[:20] # выбираем случайно N слов\n",
    "\n",
    "# для выбранных слов печатаем близкие по w2v\n",
    "{ vocab_[i] : [ vocab_[j] for j in  R[i,1:5]  ] for i in nn }"
   ]
  },
  {
   "cell_type": "code",
   "execution_count": null,
   "metadata": {},
   "outputs": [],
   "source": []
  }
 ],
 "metadata": {
  "kernelspec": {
   "display_name": "Python 3 (ipykernel)",
   "language": "python",
   "name": "python3"
  },
  "language_info": {
   "codemirror_mode": {
    "name": "ipython",
    "version": 3
   },
   "file_extension": ".py",
   "mimetype": "text/x-python",
   "name": "python",
   "nbconvert_exporter": "python",
   "pygments_lexer": "ipython3",
   "version": "3.11.5"
  },
  "toc": {
   "base_numbering": 1,
   "nav_menu": {},
   "number_sections": true,
   "sideBar": true,
   "skip_h1_title": false,
   "title_cell": "Table of Contents",
   "title_sidebar": "Contents",
   "toc_cell": false,
   "toc_position": {},
   "toc_section_display": true,
   "toc_window_display": false
  }
 },
 "nbformat": 4,
 "nbformat_minor": 2
}
