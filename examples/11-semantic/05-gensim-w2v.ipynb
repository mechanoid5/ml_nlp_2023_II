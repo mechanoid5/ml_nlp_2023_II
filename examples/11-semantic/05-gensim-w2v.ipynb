{
 "cells": [
  {
   "cell_type": "markdown",
   "id": "d1cad6b4",
   "metadata": {},
   "source": [
    "__Использование Word2Vec__\n",
    "\n",
    "Евгений Борисов <esborisov@sevsu.ru>"
   ]
  },
  {
   "cell_type": "markdown",
   "id": "7a34cfe4",
   "metadata": {},
   "source": [
    "---"
   ]
  },
  {
   "cell_type": "markdown",
   "id": "c08242e0",
   "metadata": {},
   "source": [
    "https://nlpub.ru/Russian_Distributional_Thesaurus\n",
    "\n",
    "http://www.serelex.org"
   ]
  },
  {
   "cell_type": "code",
   "execution_count": 4,
   "id": "85cf57dc",
   "metadata": {},
   "outputs": [
    {
     "name": "stdout",
     "output_type": "stream",
     "text": [
      "Collecting gensim\n",
      "  Downloading gensim-4.3.2-cp311-cp311-manylinux_2_17_x86_64.manylinux2014_x86_64.whl.metadata (8.3 kB)\n",
      "Requirement already satisfied: numpy>=1.18.5 in /opt/venv/nb_3.11/lib/python3.11/site-packages (from gensim) (1.23.5)\n",
      "Requirement already satisfied: scipy>=1.7.0 in /opt/venv/nb_3.11/lib/python3.11/site-packages (from gensim) (1.10.1)\n",
      "Requirement already satisfied: smart-open>=1.8.1 in /opt/venv/nb_3.11/lib/python3.11/site-packages (from gensim) (6.3.0)\n",
      "Downloading gensim-4.3.2-cp311-cp311-manylinux_2_17_x86_64.manylinux2014_x86_64.whl (26.7 MB)\n",
      "\u001b[2K   \u001b[38;2;114;156;31m━━━━━━━━━━━━━━━━━━━━━━━━━━━━━━━━━━━━━━━━\u001b[0m \u001b[32m26.7/26.7 MB\u001b[0m \u001b[31m6.6 MB/s\u001b[0m eta \u001b[36m0:00:00\u001b[0mm eta \u001b[36m0:00:01\u001b[0m[36m0:00:01\u001b[0m0m\n",
      "\u001b[?25hInstalling collected packages: gensim\n",
      "Successfully installed gensim-4.3.2\n"
     ]
    }
   ],
   "source": [
    "!pip install gensim"
   ]
  },
  {
   "cell_type": "code",
   "execution_count": 2,
   "id": "c94eea17",
   "metadata": {},
   "outputs": [],
   "source": [
    "# 496MB\n",
    "# !wget -c http://panchenko.me/data/dsl-backup/w2v-ru/all.norm-sz100-w10-cb0-it1-min100.w2v"
   ]
  },
  {
   "cell_type": "code",
   "execution_count": 11,
   "id": "17f32f01",
   "metadata": {},
   "outputs": [
    {
     "name": "stdout",
     "output_type": "stream",
     "text": [
      "['fasttext-wiki-news-subwords-300', 'conceptnet-numberbatch-17-06-300', 'word2vec-ruscorpora-300', 'word2vec-google-news-300', 'glove-wiki-gigaword-50', 'glove-wiki-gigaword-100', 'glove-wiki-gigaword-200', 'glove-wiki-gigaword-300', 'glove-twitter-25', 'glove-twitter-50', 'glove-twitter-100', 'glove-twitter-200', '__testing_word2vec-matrix-synopsis']\n"
     ]
    }
   ],
   "source": [
    "import gensim.downloader as api\n",
    "  \n",
    "# проверка имеющихся моделей и датасетов\n",
    "info_datasets = api.info()\n",
    "# print(info_datasets)\n",
    "print(list(info_datasets['models'].keys()))"
   ]
  },
  {
   "cell_type": "code",
   "execution_count": 12,
   "id": "e218063b",
   "metadata": {},
   "outputs": [
    {
     "name": "stdout",
     "output_type": "stream",
     "text": [
      "[==================================================] 100.0% 198.8/198.8MB downloaded\n"
     ]
    }
   ],
   "source": [
    "word2vec_model = api.load('word2vec-ruscorpora-300')"
   ]
  },
  {
   "cell_type": "code",
   "execution_count": 25,
   "id": "d585cf42",
   "metadata": {},
   "outputs": [],
   "source": [
    "# word2vec_model.key_to_index"
   ]
  },
  {
   "cell_type": "code",
   "execution_count": 27,
   "id": "7591e324",
   "metadata": {},
   "outputs": [
    {
     "data": {
      "text/plain": [
       "array([ 4.94093262e-02,  3.72173674e-02,  7.07980767e-02,  4.92287204e-02,\n",
       "        1.89955626e-02,  3.00747622e-02,  6.78085461e-02, -1.37000382e-02,\n",
       "        1.26398215e-02, -8.66499245e-02,  5.23310639e-02,  6.46742582e-02,\n",
       "       -1.57096852e-02,  1.62967341e-03, -3.07530090e-02,  1.64642725e-02,\n",
       "        2.95254812e-02,  1.00618497e-01,  1.03320412e-01, -8.94521847e-02,\n",
       "       -6.64977506e-02,  4.64117005e-02, -3.65502089e-02,  5.65760434e-02,\n",
       "        1.10896612e-02, -1.16364092e-01,  2.99966354e-02, -8.46758708e-02,\n",
       "       -5.85793220e-02, -1.60135567e-01, -8.76762811e-03,  8.89333636e-02,\n",
       "        9.02539194e-02, -2.30273493e-02, -1.10255174e-01, -6.25608042e-02,\n",
       "        4.97839153e-02,  1.11232931e-02,  4.56959009e-02, -1.14668328e-02,\n",
       "        3.19716707e-02,  1.31078765e-01, -1.48597145e-02, -9.13322642e-02,\n",
       "       -4.07865308e-02,  2.15644017e-03,  1.18889414e-01, -1.23073041e-01,\n",
       "        9.17190984e-02, -9.49588418e-02,  5.21570891e-02, -6.91245943e-02,\n",
       "        3.62423249e-02,  2.23407894e-02, -1.98055874e-03,  1.58747733e-02,\n",
       "       -3.96417789e-02, -2.57486738e-02, -3.22979504e-05, -1.49184465e-03,\n",
       "       -1.14904549e-02, -3.70713212e-02,  3.56364436e-03, -1.18538976e-01,\n",
       "        3.51442508e-02, -1.51166483e-03, -5.65030873e-02,  1.97372288e-02,\n",
       "        3.19377705e-03, -3.04425955e-02, -1.04189388e-01,  5.15037142e-02,\n",
       "       -1.27495676e-02,  2.69478299e-02, -5.69012612e-02,  8.64286274e-02,\n",
       "        6.27767388e-03, -8.01460631e-03,  4.13818844e-02, -3.34355310e-02,\n",
       "       -4.56780978e-02,  1.04509376e-01,  2.58425884e-02, -1.70211885e-02,\n",
       "       -9.58985239e-02, -5.61736673e-02, -8.96277726e-02,  1.01074561e-01,\n",
       "       -1.35201951e-02, -7.22552314e-02,  4.42324765e-02, -5.59884273e-02,\n",
       "        1.41753092e-01, -2.33147889e-02,  1.60026342e-01,  6.57155877e-04,\n",
       "       -1.03664650e-02,  8.69693533e-02,  2.40012947e-02,  6.40463158e-02,\n",
       "        1.03573287e-02, -2.55252272e-02, -6.34625787e-03,  1.99958291e-02,\n",
       "       -9.31309834e-02,  3.94834280e-02, -4.19135168e-02,  8.10152814e-02,\n",
       "        1.18790707e-02, -3.53172608e-03, -1.64432935e-02,  1.53163150e-02,\n",
       "        6.73659472e-03,  5.02210371e-02,  1.33199580e-02,  5.48062799e-03,\n",
       "        7.34079033e-02, -3.46856080e-02, -4.48113605e-02,  8.64496306e-02,\n",
       "        4.21217717e-02, -5.74279800e-02, -7.06726033e-03, -4.52530710e-03,\n",
       "       -3.96758467e-02, -5.17247543e-02, -2.41756532e-03,  2.19557900e-02,\n",
       "       -4.82017063e-02,  1.30507546e-02,  2.32098326e-02, -6.05014525e-02,\n",
       "       -2.93960087e-02, -3.43379714e-02, -1.29802987e-01, -2.39039194e-02,\n",
       "       -2.89065260e-02,  1.38283232e-02,  6.83462340e-03, -1.90568473e-02,\n",
       "        8.94428231e-03, -1.95929618e-03,  2.53069252e-02,  1.79305654e-02,\n",
       "       -1.26819201e-02, -2.26771217e-02, -1.32577689e-02, -1.94759965e-02,\n",
       "       -2.06872784e-02, -4.71429005e-02, -6.66956306e-02,  1.57863453e-01,\n",
       "        8.80949665e-03,  6.77307742e-03, -4.32040617e-02, -2.73835659e-02,\n",
       "        8.63266438e-02, -6.28470555e-02,  1.46113499e-03, -3.64705808e-02,\n",
       "       -1.05268583e-01,  3.64935249e-02, -2.17617135e-02,  9.84051544e-03,\n",
       "       -6.53164461e-02, -2.33097356e-02, -4.33480702e-02, -4.75760736e-02,\n",
       "        2.87007708e-02,  9.80588235e-03, -7.73277283e-02, -2.97783054e-02,\n",
       "        3.97678763e-02,  1.07469074e-01,  2.93147098e-02,  8.93169194e-02,\n",
       "        2.68205032e-02,  2.28763223e-02,  7.79065192e-02, -6.05314858e-02,\n",
       "        3.61945410e-03,  4.67659049e-02, -2.12185383e-02, -2.00089812e-02,\n",
       "       -5.68473991e-03, -6.59011453e-02,  3.45418453e-02, -1.03123315e-01,\n",
       "       -2.72268318e-02, -6.45164624e-02, -3.42946313e-02,  1.08284064e-01,\n",
       "       -2.41101515e-02, -5.82098477e-02,  5.86829789e-04,  3.66420709e-02,\n",
       "       -5.05538732e-02,  4.17517722e-02, -6.42793532e-03,  1.58229358e-02,\n",
       "       -1.18213832e-01, -1.15288772e-01, -3.43494490e-02,  1.34669859e-02,\n",
       "       -1.06589422e-01,  3.63391795e-04, -2.96545345e-02,  5.27384579e-02,\n",
       "       -5.22617064e-03,  4.87116240e-02, -8.14372748e-02,  4.76274826e-03,\n",
       "        3.45772086e-03,  2.72964016e-02, -1.09053284e-01, -7.22523779e-02,\n",
       "       -2.66664345e-02,  9.67245623e-02,  4.44862284e-02,  9.06960219e-02,\n",
       "       -9.80089698e-03, -1.46464538e-02,  1.65357869e-02, -7.51523525e-02,\n",
       "        8.35842937e-02, -4.76144142e-02,  8.16054717e-02,  6.40998036e-02,\n",
       "        9.05224879e-04,  1.70590896e-02, -3.46309543e-02,  5.28915897e-02,\n",
       "       -3.21791060e-02, -6.17420673e-02,  3.21622305e-02, -2.73352731e-02,\n",
       "        4.70292987e-03,  3.26728001e-02, -8.41706619e-02,  2.43234448e-03,\n",
       "        2.84161996e-02,  1.63458828e-02,  3.91890621e-03, -1.06636398e-01,\n",
       "       -5.78196980e-02,  7.63386488e-03, -6.60990849e-02, -1.06535904e-01,\n",
       "        4.87803668e-02,  3.35832965e-03, -9.27972049e-02, -9.34364200e-02,\n",
       "       -5.35237081e-02, -4.45493199e-02, -6.19791970e-02,  8.89754388e-03,\n",
       "        1.01295061e-01, -1.87726598e-03,  6.53089816e-03,  2.85982210e-02,\n",
       "        2.71954257e-02, -2.91497372e-02, -1.52509704e-01,  6.12144032e-03,\n",
       "        5.16030286e-03,  8.37290958e-02,  2.75698211e-02, -4.17094380e-02,\n",
       "       -6.17444478e-02, -1.07522815e-01,  6.60286173e-02,  4.87510487e-02,\n",
       "        4.96585071e-02, -5.00189848e-02,  2.70892140e-02,  5.57877682e-02,\n",
       "        4.41804118e-02,  2.58952323e-02, -4.68706153e-02,  8.21468756e-02,\n",
       "        1.25476520e-03, -2.45912112e-02, -1.27386872e-03,  9.26624890e-03,\n",
       "        4.64323014e-02, -3.31378542e-02, -3.46836634e-02, -3.09816319e-02,\n",
       "       -4.07066708e-03,  1.43079370e-01, -9.58053991e-02, -5.61690554e-02,\n",
       "       -6.14967383e-03,  8.03372040e-02,  7.76958000e-03,  4.73968405e-03,\n",
       "        9.41848978e-02,  2.91689225e-02,  6.93671405e-02,  8.37845802e-02],\n",
       "      dtype=float32)"
      ]
     },
     "execution_count": 27,
     "metadata": {},
     "output_type": "execute_result"
    }
   ],
   "source": [
    "word = 'дерево_NOUN'\n",
    "word2vec_model.get_vector(word)"
   ]
  },
  {
   "cell_type": "code",
   "execution_count": 29,
   "id": "2bc9d292",
   "metadata": {},
   "outputs": [
    {
     "data": {
      "text/plain": [
       "{'дуб_NOUN': 0.7490348815917969,\n",
       " 'береза_NOUN': 0.7402018308639526,\n",
       " 'сосна_NOUN': 0.7250653505325317,\n",
       " 'клен_NOUN': 0.7105392217636108,\n",
       " 'кустарник_NOUN': 0.6997158527374268,\n",
       " 'листва_NOUN': 0.6985297203063965,\n",
       " 'сук_NOUN': 0.6809549331665039,\n",
       " 'безлиственный_ADJ': 0.6707502603530884,\n",
       " 'куст_NOUN': 0.6643524169921875,\n",
       " 'яблоня_NOUN': 0.6635726094245911}"
      ]
     },
     "execution_count": 29,
     "metadata": {},
     "output_type": "execute_result"
    }
   ],
   "source": [
    "{ w:s for w,s in word2vec_model.most_similar(word) }"
   ]
  },
  {
   "cell_type": "markdown",
   "id": "3c87ab69",
   "metadata": {},
   "source": [
    "---"
   ]
  },
  {
   "cell_type": "code",
   "execution_count": 30,
   "id": "f7da475b",
   "metadata": {},
   "outputs": [],
   "source": [
    "cat = word2vec_model.get_vector(u'кот_NOUN')\n",
    "dog = word2vec_model.get_vector(u'собака_NOUN')\n",
    "lynx = word2vec_model.get_vector(u'рысь_NOUN')"
   ]
  },
  {
   "cell_type": "code",
   "execution_count": 31,
   "id": "875b7708",
   "metadata": {},
   "outputs": [
    {
     "data": {
      "text/plain": [
       "array([0.55679   , 0.27162316], dtype=float32)"
      ]
     },
     "execution_count": 31,
     "metadata": {},
     "output_type": "execute_result"
    }
   ],
   "source": [
    "word2vec_model.cosine_similarities( cat,  np.vstack([dog,lynx]) )"
   ]
  },
  {
   "cell_type": "markdown",
   "id": "94698e1e",
   "metadata": {},
   "source": [
    "----"
   ]
  },
  {
   "cell_type": "code",
   "execution_count": 11,
   "id": "e40fcc21",
   "metadata": {},
   "outputs": [],
   "source": [
    "# 'король' - 'мужчина' + 'женщина' = 'королева'"
   ]
  },
  {
   "cell_type": "code",
   "execution_count": 34,
   "id": "aef25a08",
   "metadata": {},
   "outputs": [
    {
     "data": {
      "text/plain": [
       "[('королева_NOUN', 0.7313904762268066)]"
      ]
     },
     "execution_count": 34,
     "metadata": {},
     "output_type": "execute_result"
    }
   ],
   "source": [
    "word2vec_model.most_similar(positive=['женщина_NOUN', 'король_NOUN'], negative=['мужчина_NOUN'], topn=1)"
   ]
  },
  {
   "cell_type": "code",
   "execution_count": null,
   "id": "172c1c81",
   "metadata": {},
   "outputs": [],
   "source": []
  }
 ],
 "metadata": {
  "kernelspec": {
   "display_name": "Python 3 (ipykernel)",
   "language": "python",
   "name": "python3"
  },
  "language_info": {
   "codemirror_mode": {
    "name": "ipython",
    "version": 3
   },
   "file_extension": ".py",
   "mimetype": "text/x-python",
   "name": "python",
   "nbconvert_exporter": "python",
   "pygments_lexer": "ipython3",
   "version": "3.11.5"
  },
  "toc": {
   "base_numbering": 1,
   "nav_menu": {},
   "number_sections": true,
   "sideBar": true,
   "skip_h1_title": false,
   "title_cell": "Table of Contents",
   "title_sidebar": "Contents",
   "toc_cell": false,
   "toc_position": {},
   "toc_section_display": true,
   "toc_window_display": false
  }
 },
 "nbformat": 4,
 "nbformat_minor": 5
}
