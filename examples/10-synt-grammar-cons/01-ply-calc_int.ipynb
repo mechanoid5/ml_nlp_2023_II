{
 "cells": [
  {
   "cell_type": "markdown",
   "id": "5130613a",
   "metadata": {},
   "source": [
    "**Грамматический анализатор для калькулятора**\n",
    "\n",
    "Евгений Борисов <esborisov@sevsu.ru>\n",
    "\n",
    "используем библиотеку PLY (Python Lex-Yacc)"
   ]
  },
  {
   "cell_type": "markdown",
   "id": "c1741e8e",
   "metadata": {},
   "source": [
    "---"
   ]
  },
  {
   "cell_type": "markdown",
   "id": "9ec3992f",
   "metadata": {},
   "source": [
    "Виталий Дятлов  \n",
    "Разбор кода и построение синтаксических деревьев с PLY.   \n",
    "https://habr.com/ru/post/191252/\n",
    "\n",
    "\n",
    "David Beazley    \n",
    "A simple calculator with variables.   \n",
    "https://pythonrepo.com/repo/dabeaz-ply-python-text-processing\n",
    "\n",
    "\n",
    "PLY (Python Lex-Yacc)  \n",
    "https://ply.readthedocs.io/en/latest/ply.html\n",
    "\n",
    "\n",
    "Ply   \n",
    "https://www.skenz.it/compilers/ply"
   ]
  },
  {
   "cell_type": "markdown",
   "id": "d9aba674",
   "metadata": {},
   "source": [
    "---"
   ]
  },
  {
   "cell_type": "code",
   "execution_count": 1,
   "id": "0a19b40c",
   "metadata": {},
   "outputs": [],
   "source": [
    "# !pip install ply"
   ]
  },
  {
   "cell_type": "code",
   "execution_count": 2,
   "id": "4bd5d917",
   "metadata": {},
   "outputs": [],
   "source": [
    "# сюда вписываем имя нотебука, необходимо для корректной работы  PLY\n",
    "__file__ = '01-ply-calc.ipynb' "
   ]
  },
  {
   "cell_type": "markdown",
   "id": "e0ca735a",
   "metadata": {},
   "source": [
    "---"
   ]
  },
  {
   "cell_type": "code",
   "execution_count": 3,
   "id": "666ea762",
   "metadata": {},
   "outputs": [],
   "source": [
    "import ply.lex as lex\n",
    "\n",
    "tokens = ( # декларируем список токенов\n",
    "    'INTEGER',\n",
    "    'PLUS','MINUS','TIMES','DIVIDE',\n",
    "    'LPAREN','RPAREN',\n",
    "    )\n",
    "\n",
    "# определяем шаблоны токенов\n",
    "t_PLUS    = r'\\+'\n",
    "t_MINUS   = r'-'\n",
    "t_TIMES   = r'\\*'\n",
    "t_DIVIDE  = r'/'\n",
    "t_LPAREN  = r'\\('\n",
    "t_RPAREN  = r'\\)'\n",
    "\n",
    "def t_INTEGER(t):\n",
    "    r'\\d+'\n",
    "    t.value = int(t.value) # числа сразу преобразуем в формат INT\n",
    "    return t\n",
    "\n",
    "# пробел, табуляцию, перевод строки игнорируем\n",
    "t_ignore = \" \\t\\n\\r\"\n",
    "\n",
    "# для всех прочих символов выводим сообщение об ошибке\n",
    "def t_error(t): \n",
    "    print(f\"Illegal character {t.value[0]!r}\")\n",
    "    t.lexer.skip(1)"
   ]
  },
  {
   "cell_type": "code",
   "execution_count": 4,
   "id": "f55d2004",
   "metadata": {},
   "outputs": [],
   "source": [
    "lexer = lex.lex()"
   ]
  },
  {
   "cell_type": "code",
   "execution_count": 5,
   "id": "f8021e1f",
   "metadata": {},
   "outputs": [
    {
     "data": {
      "text/plain": [
       "[LexToken(INTEGER,3,1,5),\n",
       " LexToken(PLUS,'+',1,7),\n",
       " LexToken(LPAREN,'(',1,9),\n",
       " LexToken(INTEGER,4,1,10),\n",
       " LexToken(TIMES,'*',1,12),\n",
       " LexToken(INTEGER,10,1,14),\n",
       " LexToken(RPAREN,')',1,16),\n",
       " LexToken(PLUS,'+',1,20),\n",
       " LexToken(MINUS,'-',1,22),\n",
       " LexToken(INTEGER,20,1,23),\n",
       " LexToken(TIMES,'*',1,26),\n",
       " LexToken(INTEGER,2,1,27)]"
      ]
     },
     "execution_count": 5,
     "metadata": {},
     "output_type": "execute_result"
    }
   ],
   "source": [
    "# проверяем лексер....\n",
    "\n",
    "data = '''\n",
    "    3 + (4 * 10)\n",
    "  + -20 *2\n",
    "'''\n",
    "lexer.input(data)\n",
    "\n",
    "def get_token(lexer):\n",
    "    while True:\n",
    "        tok = lexer.token()\n",
    "        if not tok: break \n",
    "        yield tok\n",
    "    \n",
    "[ t for t in get_token(lexer) ]"
   ]
  },
  {
   "cell_type": "markdown",
   "id": "3a8e74ea",
   "metadata": {},
   "source": [
    "---"
   ]
  },
  {
   "attachments": {
    "image.png": {
     "image/png": "[encoded data removed]"
    }
   },
   "cell_type": "markdown",
   "id": "94d8a542",
   "metadata": {},
   "source": [
    "![image.png](attachment:image.png)"
   ]
  },
  {
   "cell_type": "code",
   "execution_count": 6,
   "id": "b5460bd7",
   "metadata": {},
   "outputs": [],
   "source": [
    "# описываем грамматику\n",
    "import ply.yacc as yacc\n",
    "\n",
    "precedence = ( # приоритет операций для разрешения неоднозначностей\n",
    "    ('left','PLUS','MINUS'),\n",
    "    ('left','TIMES','DIVIDE'),\n",
    "    ('right','UMINUS'),\n",
    "    )\n",
    "\n",
    "# правила вывода (продукции грамматики)\n",
    "\n",
    "def p_statement_expr(p):\n",
    "    'statement : expression'\n",
    "    print(p[1])\n",
    "\n",
    "def p_expression_binop(p):\n",
    "    '''expression : expression PLUS expression\n",
    "                  | expression MINUS expression\n",
    "                  | expression TIMES expression\n",
    "                  | expression DIVIDE expression'''\n",
    "    if   p[2] == '+': p[0] = p[1] + p[3]\n",
    "    elif p[2] == '-': p[0] = p[1] - p[3]\n",
    "    elif p[2] == '*': p[0] = p[1] * p[3]\n",
    "    elif p[2] == '/': p[0] = p[1] / p[3]\n",
    "\n",
    "def p_expression_uminus(p):\n",
    "    'expression : MINUS expression %prec UMINUS'\n",
    "    p[0] = -p[2]\n",
    "\n",
    "def p_expression_group(p):\n",
    "    'expression : LPAREN expression RPAREN'\n",
    "    p[0] = p[2]\n",
    "\n",
    "def p_expression_number(p):\n",
    "    'expression : INTEGER'\n",
    "    p[0] = p[1]\n",
    "\n",
    "\n",
    "def p_error(p):\n",
    "    print(f\"ERROR: incorrect syntax at {p.value!r}\")"
   ]
  },
  {
   "cell_type": "code",
   "execution_count": 7,
   "id": "eedd089f",
   "metadata": {},
   "outputs": [
    {
     "name": "stderr",
     "output_type": "stream",
     "text": [
      "Generating LALR tables\n"
     ]
    }
   ],
   "source": [
    "parser = yacc.yacc(write_tables=False)"
   ]
  },
  {
   "cell_type": "code",
   "execution_count": 8,
   "id": "e983b41c",
   "metadata": {},
   "outputs": [],
   "source": [
    "# while True:\n",
    "#     try:\n",
    "#         s = input('calc > ')\n",
    "#         parser.parse(s)\n",
    "#     except Exception as e:\n",
    "#         print('error:',e)\n",
    "#         break"
   ]
  },
  {
   "cell_type": "code",
   "execution_count": 9,
   "id": "e507403e",
   "metadata": {},
   "outputs": [
    {
     "name": "stdout",
     "output_type": "stream",
     "text": [
      "64.28571428571429\n"
     ]
    }
   ],
   "source": [
    "data = '''\n",
    "    (3 + 4) * 10\n",
    "  + -20/7 *2\n",
    "'''\n",
    "\n",
    "parser.parse(data)"
   ]
  },
  {
   "cell_type": "code",
   "execution_count": 10,
   "id": "3369f9eb",
   "metadata": {},
   "outputs": [
    {
     "name": "stdout",
     "output_type": "stream",
     "text": [
      "Illegal character '.'\n",
      "ERROR: incorrect syntax at 0\n"
     ]
    }
   ],
   "source": [
    "data = '-3 + 4 * 10.0' # это не пройдёт, в грамматике описан только INT\n",
    "\n",
    "parser.parse(data)"
   ]
  },
  {
   "cell_type": "code",
   "execution_count": null,
   "id": "2bde0e29",
   "metadata": {},
   "outputs": [],
   "source": []
  }
 ],
 "metadata": {
  "kernelspec": {
   "display_name": "Python 3 (ipykernel)",
   "language": "python",
   "name": "python3"
  },
  "language_info": {
   "codemirror_mode": {
    "name": "ipython",
    "version": 3
   },
   "file_extension": ".py",
   "mimetype": "text/x-python",
   "name": "python",
   "nbconvert_exporter": "python",
   "pygments_lexer": "ipython3",
   "version": "3.8.9"
  },
  "toc": {
   "base_numbering": 1,
   "nav_menu": {},
   "number_sections": true,
   "sideBar": true,
   "skip_h1_title": false,
   "title_cell": "Table of Contents",
   "title_sidebar": "Contents",
   "toc_cell": false,
   "toc_position": {},
   "toc_section_display": true,
   "toc_window_display": false
  }
 },
 "nbformat": 4,
 "nbformat_minor": 5
}
