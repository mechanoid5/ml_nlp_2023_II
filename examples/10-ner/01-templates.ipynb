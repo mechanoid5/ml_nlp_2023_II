{
 "cells": [
  {
   "cell_type": "markdown",
   "id": "053733cd",
   "metadata": {},
   "source": [
    "__Извлечение именованных сущностей из текстов__\n",
    "\n",
    "Евгений Борисов esborisov@sevsu.ru\n",
    "\n",
    "использование простых шаблонов"
   ]
  },
  {
   "cell_type": "code",
   "execution_count": 1,
   "id": "fbf70eb4",
   "metadata": {},
   "outputs": [
    {
     "data": {
      "text/markdown": [
       "The fastest __plane__ in the World"
      ],
      "text/plain": [
       "<IPython.core.display.Markdown object>"
      ]
     },
     "metadata": {},
     "output_type": "display_data"
    }
   ],
   "source": [
    "# примитивный поиск ключевых слов\n",
    "\n",
    "from IPython.display import display, Markdown\n",
    "\n",
    "keyword = 'plane'\n",
    "sentence = 'The fastest plane in the World'\n",
    "i = sentence.find(keyword) \n",
    "if i>0:\n",
    "    j = i + len(keyword)\n",
    "    display( Markdown( sentence[:i]+'__'+sentence[i:j]+'__'+sentence[j:] ) )\n",
    "else:\n",
    "    display('not found')"
   ]
  },
  {
   "cell_type": "code",
   "execution_count": 2,
   "id": "a39a88fa",
   "metadata": {},
   "outputs": [
    {
     "data": {
      "text/plain": [
       "['Владимир', 'Телескопов', 'Симы']"
      ]
     },
     "execution_count": 2,
     "metadata": {},
     "output_type": "execute_result"
    }
   ],
   "source": [
    "# простые шаблоны\n",
    "\n",
    "import re\n",
    "\n",
    "sentence = '''В это время Владимир Телескопов \n",
    "    действительно сидит в закутке у буфетчицы Симы, \n",
    "    волевой вдовы.'''\n",
    "\n",
    "rule = r'[А-Я][а-я]+' # слово начинается с заглавной буквы\n",
    "\n",
    "re.findall(rule,sentence)"
   ]
  },
  {
   "cell_type": "code",
   "execution_count": null,
   "id": "a67bf893",
   "metadata": {},
   "outputs": [],
   "source": []
  }
 ],
 "metadata": {
  "kernelspec": {
   "display_name": "Python 3 (ipykernel)",
   "language": "python",
   "name": "python3"
  },
  "language_info": {
   "codemirror_mode": {
    "name": "ipython",
    "version": 3
   },
   "file_extension": ".py",
   "mimetype": "text/x-python",
   "name": "python",
   "nbconvert_exporter": "python",
   "pygments_lexer": "ipython3",
   "version": "3.11.5"
  },
  "toc": {
   "base_numbering": 1,
   "nav_menu": {},
   "number_sections": true,
   "sideBar": true,
   "skip_h1_title": false,
   "title_cell": "Table of Contents",
   "title_sidebar": "Contents",
   "toc_cell": false,
   "toc_position": {},
   "toc_section_display": true,
   "toc_window_display": false
  }
 },
 "nbformat": 4,
 "nbformat_minor": 5
}
