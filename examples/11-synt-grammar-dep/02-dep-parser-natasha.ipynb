{
 "cells": [
  {
   "cell_type": "markdown",
   "id": "6edaadd8",
   "metadata": {},
   "source": [
    "**Грамматический анализатор**\n",
    "\n",
    "Евгений Борисов <esborisov@sevsu.ru>\n",
    "\n",
    "синтаксические парсеры зависимостей"
   ]
  },
  {
   "cell_type": "markdown",
   "id": "cf85d5db",
   "metadata": {},
   "source": [
    "---"
   ]
  },
  {
   "cell_type": "markdown",
   "id": "2bedb813",
   "metadata": {},
   "source": [
    "Александр Кукушкин   \n",
    "Проект Natasha. Набор качественных открытых инструментов для обработки естественного русского языка (NLP).      \n",
    "https://habr.com/ru/post/516098/\n",
    "\n",
    "\n",
    "https://nbviewer.org/github/natasha/natasha/blob/master/docs.ipynb"
   ]
  },
  {
   "cell_type": "markdown",
   "id": "da32913a",
   "metadata": {},
   "source": [
    "---"
   ]
  },
  {
   "cell_type": "code",
   "execution_count": 6,
   "id": "31d1195f",
   "metadata": {},
   "outputs": [
    {
     "name": "stdout",
     "output_type": "stream",
     "text": [
      "        ┌► Он           nsubj\n",
      "┌───┌─┌─└─ воротился    \n",
      "│   │ │ ┌► из-за        case\n",
      "│   │ └►└─ границы      obl\n",
      "│   │   ┌► и            cc\n",
      "│ ┌─└──►└─ блеснул      conj\n",
      "│ │ │ ┌►┌─ в            case\n",
      "│ │ │ │ └► виде         fixed\n",
      "│ │ └►└─── лектора      obl\n",
      "│ │ │   ┌► на           case\n",
      "│ │ └►┌─└─ кафедре      nmod\n",
      "│ │   └──► университета nmod\n",
      "│ │ ┌────► уже          advmod\n",
      "│ │ │ ┌──► в            case\n",
      "│ │ │ │ ┌► самом        amod\n",
      "│ └►└─└─└─ конце        obl\n",
      "│   │   ┌► сороковых    amod\n",
      "│   └──►└─ годов        nmod\n",
      "└────────► .            punct\n"
     ]
    }
   ],
   "source": [
    "from natasha import (\n",
    "    Segmenter,    \n",
    "    NewsEmbedding,\n",
    "    NewsMorphTagger,\n",
    "    NewsSyntaxParser,    \n",
    "    Doc\n",
    ")\n",
    "\n",
    "segmenter = Segmenter()\n",
    "\n",
    "emb = NewsEmbedding()\n",
    "morph_tagger = NewsMorphTagger(emb)\n",
    "syntax_parser = NewsSyntaxParser(emb)\n",
    "\n",
    "text = ( \n",
    "'Он воротился из-за границы и блеснул в виде лектора'\n",
    "' на кафедре университета уже в самом конце сороковых годов.'\n",
    ")\n",
    "\n",
    "doc = Doc(text)\n",
    "\n",
    "doc.segment(segmenter)\n",
    "doc.tag_morph(morph_tagger)\n",
    "doc.parse_syntax(syntax_parser)\n",
    "\n",
    "sent = doc.sents[0]\n",
    "\n",
    "#sent.morph.print()\n",
    "\n",
    "sent.syntax.print()"
   ]
  },
  {
   "cell_type": "markdown",
   "id": "d54c79bc",
   "metadata": {},
   "source": [
    "---"
   ]
  },
  {
   "cell_type": "code",
   "execution_count": null,
   "id": "d17886cd",
   "metadata": {},
   "outputs": [],
   "source": [
    "# from nltk.parse.stanford import StanfordDependencyParser"
   ]
  }
 ],
 "metadata": {
  "kernelspec": {
   "display_name": "Python 3 (ipykernel)",
   "language": "python",
   "name": "python3"
  },
  "language_info": {
   "codemirror_mode": {
    "name": "ipython",
    "version": 3
   },
   "file_extension": ".py",
   "mimetype": "text/x-python",
   "name": "python",
   "nbconvert_exporter": "python",
   "pygments_lexer": "ipython3",
   "version": "3.8.9"
  },
  "toc": {
   "base_numbering": 1,
   "nav_menu": {},
   "number_sections": true,
   "sideBar": true,
   "skip_h1_title": false,
   "title_cell": "Table of Contents",
   "title_sidebar": "Contents",
   "toc_cell": false,
   "toc_position": {},
   "toc_section_display": true,
   "toc_window_display": false
  }
 },
 "nbformat": 4,
 "nbformat_minor": 5
}
