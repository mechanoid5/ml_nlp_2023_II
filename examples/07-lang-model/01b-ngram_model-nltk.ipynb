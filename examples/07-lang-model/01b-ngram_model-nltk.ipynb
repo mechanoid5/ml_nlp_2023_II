{
 "cells": [
  {
   "cell_type": "markdown",
   "id": "ac9bfcd8",
   "metadata": {},
   "source": [
    "**Статистическая языковая модель**\n",
    "\n",
    "Евгений Борисов <esborisov@sevsu.ru>\n",
    "\n",
    "подбираем наиболее вероятное продолжение цепочки слов (NLTK model)"
   ]
  },
  {
   "cell_type": "code",
   "execution_count": 1,
   "id": "b46996a6",
   "metadata": {},
   "outputs": [
    {
     "name": "stdout",
     "output_type": "stream",
     "text": [
      "символов:465490\n",
      "\n",
      "Теперь, когда уже все прошло, и я пишу хронику, мы уже знаем в чем дело; но тогда мы еще ничего не знали, и естественно, что нам представлялись странными разные вещи. По крайней мере мы со Степаном Трофимовичем в первое время заперлись и с испугом наблюдали издали. Я-то кой-куда еще выходил и по-прежнему приносил ему разные вести, без чего он и пробыть не мог.\n"
     ]
    }
   ],
   "source": [
    "import re\n",
    "import gzip\n",
    "\n",
    "file_name = '../data/dostoevsky-besy-p2.txt.gz'\n",
    "\n",
    "# загружаем текст ...\n",
    "with gzip.open(file_name,'rt') as f:  \n",
    "    text = f.read()[105:] # ...и выкидываем заголовок\n",
    "\n",
    "print('символов:%i\\n'%(len(text)))\n",
    "print(text[:364].strip())"
   ]
  },
  {
   "cell_type": "code",
   "execution_count": 2,
   "id": "77ad9395",
   "metadata": {},
   "outputs": [
    {
     "name": "stdout",
     "output_type": "stream",
     "text": [
      "nltk version: 3.8.1\n"
     ]
    }
   ],
   "source": [
    "from nltk import __version__ as nltk_version\n",
    "print('nltk version:',nltk_version)"
   ]
  },
  {
   "cell_type": "code",
   "execution_count": 3,
   "id": "765735ae",
   "metadata": {},
   "outputs": [
    {
     "name": "stdout",
     "output_type": "stream",
     "text": [
      "предложений: 5556\n",
      "\n"
     ]
    },
    {
     "data": {
      "text/plain": [
       "[['Они', 'посещали', 'там', 'многократно', '.'], ['Все', 'переглянулись', '.']]"
      ]
     },
     "execution_count": 3,
     "metadata": {},
     "output_type": "execute_result"
    }
   ],
   "source": [
    "from random import sample\n",
    "\n",
    "from nltk.tokenize import sent_tokenize as nltk_sentence_split\n",
    "from nltk.tokenize import word_tokenize as nltk_tokenize_word\n",
    "\n",
    "text = [ \n",
    "    nltk_tokenize_word(s) # разбиваем предложения на слова\n",
    "    for s in nltk_sentence_split(text) # режем текст на отдельные предложения\n",
    "]\n",
    "\n",
    "print('предложений: %i\\n'%(len(text)))\n",
    "\n",
    "sample(text,2)"
   ]
  },
  {
   "cell_type": "code",
   "execution_count": 4,
   "id": "a5c1b7ca",
   "metadata": {},
   "outputs": [
    {
     "name": "stdout",
     "output_type": "stream",
     "text": [
      "16634\n"
     ]
    }
   ],
   "source": [
    "from nltk.lm.preprocessing import padded_everygram_pipeline \n",
    "\n",
    "ngram_len_max = 2\n",
    "\n",
    "# генерируем учебный датасет\n",
    "train, vocab = padded_everygram_pipeline(ngram_len_max, text)\n",
    "\n",
    "# собираем модель\n",
    "from nltk.lm import MLE as Model \n",
    "# from nltk.lm import Laplace as Model\n",
    "\n",
    "model = Model(ngram_len_max) \n",
    "model.fit(train, vocab)\n",
    "print(len(model.vocab))"
   ]
  },
  {
   "cell_type": "code",
   "execution_count": 5,
   "id": "92f5b5d1",
   "metadata": {},
   "outputs": [
    {
     "data": {
      "text/plain": [
       "'perplexity: 23.642337077815522'"
      ]
     },
     "metadata": {},
     "output_type": "display_data"
    }
   ],
   "source": [
    "from nltk.util import bigrams\n",
    "\n",
    "# оцениваем насколько хорошо модель предсказывает слова из датасета\n",
    "text_bigrams = [ ngram for s in text for ngram in bigrams(s) ]\n",
    "\n",
    "display( f'perplexity: { model.perplexity(text_bigrams)}' )"
   ]
  },
  {
   "cell_type": "code",
   "execution_count": 6,
   "id": "309be2c0",
   "metadata": {},
   "outputs": [
    {
     "data": {
      "text/html": [
       "<font style=\"color:black;\">На дворе дождь и темень , у меня впрочем</font> -> <font style=\"color:red;\">был скромен . </s></font>"
      ],
      "text/plain": [
       "<IPython.core.display.HTML object>"
      ]
     },
     "metadata": {},
     "output_type": "display_data"
    },
    {
     "data": {
      "text/html": [
       "<font style=\"color:black;\">Да и мне все равно ; мне он ничем</font> -> <font style=\"color:red;\">не угодно и доступ во</font>"
      ],
      "text/plain": [
       "<IPython.core.display.HTML object>"
      ]
     },
     "metadata": {},
     "output_type": "display_data"
    },
    {
     "data": {
      "text/html": [
       "<font style=\"color:black;\">- Слушайте , князь , - повторила она в</font> -> <font style=\"color:red;\">запрошлое воскресенье они мало знаете</font>"
      ],
      "text/plain": [
       "<IPython.core.display.HTML object>"
      ]
     },
     "metadata": {},
     "output_type": "display_data"
    },
    {
     "data": {
      "text/html": [
       "<font style=\"color:black;\">Проспал он долго , более часу , и все</font> -> <font style=\"color:red;\">эти двадцать талеров , его</font>"
      ],
      "text/plain": [
       "<IPython.core.display.HTML object>"
      ]
     },
     "metadata": {},
     "output_type": "display_data"
    },
    {
     "data": {
      "text/html": [
       "<font style=\"color:black;\">- Я знаю , что мне могла бы угрожать</font> -> <font style=\"color:red;\">опасность , развлечешься , -</font>"
      ],
      "text/plain": [
       "<IPython.core.display.HTML object>"
      ]
     },
     "metadata": {},
     "output_type": "display_data"
    },
    {
     "data": {
      "text/html": [
       "<font style=\"color:black;\">Капитан не посмел уже сесть на диване , а</font> -> <font style=\"color:red;\">вы смели стать на парах</font>"
      ],
      "text/plain": [
       "<IPython.core.display.HTML object>"
      ]
     },
     "metadata": {},
     "output_type": "display_data"
    },
    {
     "data": {
      "text/html": [
       "<font style=\"color:black;\">Да , вспомнил , он предлагал прокурора и ,</font> -> <font style=\"color:red;\">- Те-те-те , а если</font>"
      ],
      "text/plain": [
       "<IPython.core.display.HTML object>"
      ]
     },
     "metadata": {},
     "output_type": "display_data"
    },
    {
     "data": {
      "text/html": [
       "<font style=\"color:black;\">По-моему , он рассчитывал довести старика до отчаяния и</font> -> <font style=\"color:red;\">помнить . </s></font>"
      ],
      "text/plain": [
       "<IPython.core.display.HTML object>"
      ]
     },
     "metadata": {},
     "output_type": "display_data"
    },
    {
     "data": {
      "text/html": [
       "<font style=\"color:black;\">- Знаете ли , что я , `` хозяин</font> -> <font style=\"color:red;\">, voyez-vous ... Я предлагаю</font>"
      ],
      "text/plain": [
       "<IPython.core.display.HTML object>"
      ]
     },
     "metadata": {},
     "output_type": "display_data"
    }
   ],
   "source": [
    "# генерируем продолжения\n",
    "\n",
    "from IPython.display import HTML\n",
    "\n",
    "def crop_result(s):\n",
    "    try:\n",
    "        n = s.index('</s>')+1\n",
    "    except ValueError:\n",
    "        n = len(s)\n",
    "    return s[:n]\n",
    "\n",
    "def cstr(s, color='black'):\n",
    "    return f'<font style=\"color:{color};\">{s}</font>'\n",
    "\n",
    "str_init_len = 9\n",
    "words_predict = 5\n",
    "\n",
    "for sentence in sample(text,20): # выбираем рандомно N предложений\n",
    "    if len(sentence)<str_init_len+words_predict: continue # выкидываем очень короткие предложения\n",
    "    sentence_ = sentence[:str_init_len] # берём начало предложения\n",
    "    result = model.generate(words_predict, text_seed=sentence_) # генерируем возможные продолжения\n",
    "    result = crop_result( result)\n",
    "    display( HTML( cstr( ' '.join(sentence_)) + ' -> ' + cstr( ' '.join(result), color='red') ) ) \n"
   ]
  },
  {
   "cell_type": "code",
   "execution_count": null,
   "id": "c9a3ad5c",
   "metadata": {},
   "outputs": [],
   "source": []
  }
 ],
 "metadata": {
  "kernelspec": {
   "display_name": "Python 3 (ipykernel)",
   "language": "python",
   "name": "python3"
  },
  "language_info": {
   "codemirror_mode": {
    "name": "ipython",
    "version": 3
   },
   "file_extension": ".py",
   "mimetype": "text/x-python",
   "name": "python",
   "nbconvert_exporter": "python",
   "pygments_lexer": "ipython3",
   "version": "3.11.5"
  },
  "toc": {
   "base_numbering": 1,
   "nav_menu": {},
   "number_sections": true,
   "sideBar": true,
   "skip_h1_title": false,
   "title_cell": "Table of Contents",
   "title_sidebar": "Contents",
   "toc_cell": false,
   "toc_position": {},
   "toc_section_display": true,
   "toc_window_display": false
  }
 },
 "nbformat": 4,
 "nbformat_minor": 5
}
