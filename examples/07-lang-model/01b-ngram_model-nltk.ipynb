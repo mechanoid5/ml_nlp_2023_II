{
 "cells": [
  {
   "cell_type": "markdown",
   "id": "ac9bfcd8",
   "metadata": {},
   "source": [
    "**Статистическая языковая модель**\n",
    "\n",
    "Евгений Борисов <esborisov@sevsu.ru>\n",
    "\n",
    "подбираем наиболее вероятное продолжение цепочки слов (NLTK model)"
   ]
  },
  {
   "cell_type": "code",
   "execution_count": 1,
   "id": "b46996a6",
   "metadata": {},
   "outputs": [
    {
     "name": "stdout",
     "output_type": "stream",
     "text": [
      "символов:465490\n",
      "\n",
      "Теперь, когда уже все прошло, и я пишу хронику, мы уже знаем в чем дело; но тогда мы еще ничего не знали, и естественно, что нам представлялись странными разные вещи. По крайней мере мы со Степаном Трофимовичем в первое время заперлись и с испугом наблюдали издали. Я-то кой-куда еще выходил и по-прежнему приносил ему разные вести, без чего он и пробыть не мог.\n"
     ]
    }
   ],
   "source": [
    "import re\n",
    "import gzip\n",
    "\n",
    "file_name = '../data/dostoevsky-besy-p2.txt.gz'\n",
    "\n",
    "# загружаем текст ...\n",
    "with gzip.open(file_name,'rt') as f:  \n",
    "    text = f.read()[105:] # ...и выкидываем заголовок\n",
    "\n",
    "print('символов:%i\\n'%(len(text)))\n",
    "print(text[:364].strip())"
   ]
  },
  {
   "cell_type": "code",
   "execution_count": 2,
   "id": "1ca2b8e5",
   "metadata": {},
   "outputs": [
    {
     "name": "stdout",
     "output_type": "stream",
     "text": [
      "nltk version: 3.6.7\n"
     ]
    }
   ],
   "source": [
    "from nltk import __version__ as nltk_version\n",
    "print('nltk version:',nltk_version)"
   ]
  },
  {
   "cell_type": "code",
   "execution_count": 3,
   "id": "765735ae",
   "metadata": {},
   "outputs": [
    {
     "name": "stdout",
     "output_type": "stream",
     "text": [
      "предложений: 5556\n",
      "\n"
     ]
    },
    {
     "data": {
      "text/plain": [
       "[['Это', 'в', 'десяти', 'заповедях', '.'],\n",
       " ['-', 'Это', 'одна', 'только', 'маска', '.']]"
      ]
     },
     "execution_count": 3,
     "metadata": {},
     "output_type": "execute_result"
    }
   ],
   "source": [
    "from random import sample\n",
    "\n",
    "from nltk.tokenize import sent_tokenize as nltk_sentence_split\n",
    "from nltk.tokenize import word_tokenize as nltk_tokenize_word\n",
    "\n",
    "text = [ \n",
    "    nltk_tokenize_word(s) # разбиваем предложения на слова\n",
    "    for s in nltk_sentence_split(text) # режем текст на отдельные предложения\n",
    "]\n",
    "\n",
    "print('предложений: %i\\n'%(len(text)))\n",
    "\n",
    "sample(text,2)"
   ]
  },
  {
   "cell_type": "code",
   "execution_count": 7,
   "id": "e810ef5c",
   "metadata": {},
   "outputs": [
    {
     "name": "stdout",
     "output_type": "stream",
     "text": [
      "16634\n"
     ]
    }
   ],
   "source": [
    "from nltk.lm.preprocessing import padded_everygram_pipeline \n",
    "\n",
    "ngram_len_max = 2\n",
    "\n",
    "# генерируем учебный датасет\n",
    "train, vocab = padded_everygram_pipeline(ngram_len_max, text)\n",
    "\n",
    "# собираем модель\n",
    "\n",
    "# from nltk.lm import MLE as Model \n",
    "from nltk.lm import Laplace as Model\n",
    "\n",
    "model = Model(2) \n",
    "model.fit(train, vocab)\n",
    "print(len(model.vocab))"
   ]
  },
  {
   "cell_type": "code",
   "execution_count": 8,
   "id": "309be2c0",
   "metadata": {},
   "outputs": [
    {
     "name": "stdout",
     "output_type": "stream",
     "text": [
      "- В тех же , - коротко ответил Кириллов , тотчас же по голосу угадав о чем спрашивают , и ... ['начав', 'вдруг', 'рассердился']\n",
      "\n",
      "- Я только лишь взял его в руки и вдруг в одно утро - обыск , арест , полицейский хватает его за шиворот , а вот ... ['день', 'переправил', ',']\n",
      "\n",
      "Он плюнул и побежал садиться : `` В Скворешники ... [',', 'где', 'он']\n",
      "\n",
      "Но вы правы , она из-под венца прибежит , стоит вам ... ['об', 'этом', 'роде']\n",
      "\n",
      "Напротив , не умирайте , а живите ; живите как можно больше , я ... ['по', 'слухам', 'самым']\n",
      "\n",
      "- Десять шагов между барьерами близко , - заметил ... ['это', 'славянофильская', 'мысль']\n",
      "\n",
      "Он позора не находит уйти от меня с ... ['места', 'и', ',']\n",
      "\n",
      "Даже стихи перестал писать , а когда-то и вы забавлялись моими стишками , Николай Всеволодович , ... ['неподвижным', 'взглядом', ',']\n",
      "\n",
      "Ей хотелось перелить в него свое честолюбие , а он вдруг начал клеить кирку : пастор выходил говорить проповедь , молящиеся слушали , набожно сложив пред собою руки , одна дама утирала платочком слезы , один старичок сморкался ; под конец звенел органчик , ... ['специальная', 'роль', ',']\n",
      "\n",
      "Жаль только , что некогда ждать , а то пусть бы они ... ['как', 'и', 'обласкать']\n",
      "\n",
      "- Старухина свекровь приехала ; нет , сноха ... ... ['без', 'приятности', 'и']\n",
      "\n",
      "Я не могу быть ничьею женой ; я не могу жить и в таких домах ... [';', 'теперь', 'его']\n",
      "\n",
      "Как и каждый страдальчески-мнительный человек , Андрей Антонович всякий раз бывал чрезвычайно и радостно доверчив в первую ... ['встретившуюся', 'гувернантку', 'он']\n",
      "\n",
      "Напротив , еще с самого вечера ожидает , и как только узнала давеча , тотчас же сделала туалет , - скривил было он рот ... ['летят', ',', 'вскрикнула']\n",
      "\n",
      "Она вышла не оборачиваясь и не отвечая , закрыв ... ['руками', 'Семен', 'Яковлевич']\n",
      "\n",
      "Так например , один служащий майор , близкий родственник Виргинского , совершенно невинный человек , которого и не приглашали , но который сам пришел к имениннику , ... ['раздражительным', 'и', 'разойтись']\n",
      "\n"
     ]
    }
   ],
   "source": [
    "# генерируем продолжения\n",
    "for sentence in sample(text,30): # выбираем рандомно 10 предложений\n",
    "    if len(sentence)<10: continue\n",
    "    # берём начало предложения\n",
    "    sentence_ = sentence[:-(len(sentence)//4)]\n",
    "    # генерируем возможные продолжения\n",
    "    result = model.generate(3, text_seed=sentence_) \n",
    "    print(  ' '.join(sentence_)  + ' ... ' + str( result ) + '\\n' )"
   ]
  },
  {
   "cell_type": "code",
   "execution_count": 9,
   "id": "08863bde",
   "metadata": {},
   "outputs": [
    {
     "name": "stdout",
     "output_type": "stream",
     "text": [
      "perplexity: 3660.669736692352\n"
     ]
    }
   ],
   "source": [
    "from nltk.util import bigrams\n",
    "\n",
    "# оцениваем насколько хорошо модель предсказывает слова из датасета\n",
    "text_bigrams = [ ngram for s in text for ngram in bigrams(s) ]\n",
    "\n",
    "print( 'perplexity:', model.perplexity( text_bigrams ) )"
   ]
  },
  {
   "cell_type": "code",
   "execution_count": null,
   "id": "29036d7d",
   "metadata": {},
   "outputs": [],
   "source": []
  }
 ],
 "metadata": {
  "kernelspec": {
   "display_name": "Python 3 (ipykernel)",
   "language": "python",
   "name": "python3"
  },
  "language_info": {
   "codemirror_mode": {
    "name": "ipython",
    "version": 3
   },
   "file_extension": ".py",
   "mimetype": "text/x-python",
   "name": "python",
   "nbconvert_exporter": "python",
   "pygments_lexer": "ipython3",
   "version": "3.8.9"
  },
  "toc": {
   "base_numbering": 1,
   "nav_menu": {},
   "number_sections": true,
   "sideBar": true,
   "skip_h1_title": false,
   "title_cell": "Table of Contents",
   "title_sidebar": "Contents",
   "toc_cell": false,
   "toc_position": {},
   "toc_section_display": true,
   "toc_window_display": false
  }
 },
 "nbformat": 4,
 "nbformat_minor": 5
}
