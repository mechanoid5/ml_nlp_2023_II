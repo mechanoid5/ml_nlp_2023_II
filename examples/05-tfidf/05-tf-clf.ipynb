{
 "cells": [
  {
   "cell_type": "markdown",
   "metadata": {},
   "source": [
    "**классификатор текстов**\n",
    "\n",
    "SnowballStemmer+TfidfVectorizer\n",
    "\n",
    "_Евгений Борисов <esborisov@sevsu.ru>_"
   ]
  },
  {
   "cell_type": "markdown",
   "metadata": {},
   "source": [
    "## тексты"
   ]
  },
  {
   "cell_type": "code",
   "execution_count": 1,
   "metadata": {},
   "outputs": [],
   "source": [
    "import pandas as pd\n",
    "pd.options.display.precision = 2 \n",
    "pd.options.display.max_colwidth = 200 \n",
    "\n",
    "from tqdm.notebook import tqdm\n",
    "tqdm.pandas()"
   ]
  },
  {
   "cell_type": "markdown",
   "metadata": {},
   "source": [
    "датасет Lenta.Ru-News\n",
    "\n",
    "https://github.com/yutkin/Lenta.Ru-News-Dataset/releases/"
   ]
  },
  {
   "cell_type": "markdown",
   "metadata": {},
   "source": [
    "датасеты для примеров   \n",
    "\n",
    "https://disk.yandex.ru/d/3_WAa7SgrQYBzw"
   ]
  },
  {
   "cell_type": "code",
   "execution_count": 2,
   "metadata": {},
   "outputs": [
    {
     "name": "stdout",
     "output_type": "stream",
     "text": [
      "записей: 3196\n"
     ]
    },
    {
     "data": {
      "text/html": [
       "<div>\n",
       "<style scoped>\n",
       "    .dataframe tbody tr th:only-of-type {\n",
       "        vertical-align: middle;\n",
       "    }\n",
       "\n",
       "    .dataframe tbody tr th {\n",
       "        vertical-align: top;\n",
       "    }\n",
       "\n",
       "    .dataframe thead th {\n",
       "        text-align: right;\n",
       "    }\n",
       "</style>\n",
       "<table border=\"1\" class=\"dataframe\">\n",
       "  <thead>\n",
       "    <tr style=\"text-align: right;\">\n",
       "      <th></th>\n",
       "      <th>text</th>\n",
       "      <th>tag</th>\n",
       "    </tr>\n",
       "  </thead>\n",
       "  <tbody>\n",
       "    <tr>\n",
       "      <th>3008</th>\n",
       "      <td>В списке присутствуют как дорогие, так и массовые модели седанов.\\n\\nТак, четырехдверка Lincoln Continental окажется не доступной для россиян, так как её минимальная цена составляет 44 тысячи долл...</td>\n",
       "      <td>auto</td>\n",
       "    </tr>\n",
       "    <tr>\n",
       "      <th>740</th>\n",
       "      <td>Глава Минска: \"Показатели по экспорту туристических и гостиничных услуг оставляют желать лучшего\"\\n\\n8 декабря 2016 в 11:19\\n\\nБЕЛТА\\n\\nРабота коммунальных гостиниц Минска должна быть более эффект...</td>\n",
       "      <td>economics</td>\n",
       "    </tr>\n",
       "  </tbody>\n",
       "</table>\n",
       "</div>"
      ],
      "text/plain": [
       "                                                                                                                                                                                                         text  \\\n",
       "3008  В списке присутствуют как дорогие, так и массовые модели седанов.\\n\\nТак, четырехдверка Lincoln Continental окажется не доступной для россиян, так как её минимальная цена составляет 44 тысячи долл...   \n",
       "740   Глава Минска: \"Показатели по экспорту туристических и гостиничных услуг оставляют желать лучшего\"\\n\\n8 декабря 2016 в 11:19\\n\\nБЕЛТА\\n\\nРабота коммунальных гостиниц Минска должна быть более эффект...   \n",
       "\n",
       "            tag  \n",
       "3008       auto  \n",
       "740   economics  "
      ]
     },
     "execution_count": 2,
     "metadata": {},
     "output_type": "execute_result"
    }
   ],
   "source": [
    "# загружаем тексты\n",
    "data = pd.read_pickle('../data/news.pkl.gz')\n",
    "print('записей:',len(data))\n",
    "data.sample(2)"
   ]
  },
  {
   "cell_type": "markdown",
   "metadata": {},
   "source": [
    "## токенайзер со стемингом и очисткой"
   ]
  },
  {
   "cell_type": "code",
   "execution_count": 3,
   "metadata": {},
   "outputs": [],
   "source": [
    "# !pip install natasha "
   ]
  },
  {
   "cell_type": "code",
   "execution_count": 4,
   "metadata": {},
   "outputs": [],
   "source": [
    "# import nltk\n",
    "# nltk.download('stopwords')"
   ]
  },
  {
   "cell_type": "code",
   "execution_count": 5,
   "metadata": {},
   "outputs": [],
   "source": [
    "# токенайзер Natasha\n",
    "\n",
    "import re\n",
    "from razdel import tokenize\n",
    "from nltk.corpus import stopwords as nltk_stopwords\n",
    "stopwords = set(nltk_stopwords.words('russian'))\n",
    "\n",
    "def tokenizer(text,stopwords=stopwords):\n",
    "    return [\n",
    "            t.text for t in tokenize( # разбиваем текст на слова\n",
    "                re.sub(r'</?[a-z]+>',' ',text), # удаляем xml tag \n",
    "            ) \n",
    "            if not (\n",
    "               False\n",
    "               or (t.text in stopwords) # выкидываем предлоги, союзы и т.п.    \n",
    "               or re.match(r'^[^a-zA-ZЁёА-я]+$', t.text) # выкидываем токены не содержащие букв\n",
    "               or re.match(r'^(\\w)\\1+$', t.text)  # выкидываем токены из одного повторяющегося символа\n",
    "               or re.match(r'^[^a-zA-ZЁёА-я].*$', t.text)  # выкидываем токены начинающиеся не с буквы\n",
    "            )\n",
    "        ] "
   ]
  },
  {
   "cell_type": "code",
   "execution_count": 6,
   "metadata": {},
   "outputs": [],
   "source": [
    "# токенайзер cо стеммером\n",
    "#\n",
    "# from nltk.tokenize import word_tokenize as nltk_tokenize_word\n",
    "# from nltk.stem.snowball import SnowballStemmer\n",
    "# from nltk.corpus import stopwords as nltk_stopwords\n",
    "# import re\n",
    "\n",
    "# stemmer = SnowballStemmer('russian')\n",
    "# stopwords = set(nltk_stopwords.words('russian'))\n",
    "\n",
    "# def tokenizer(text,stemmer=stemmer,stopwords=stopwords):\n",
    "#     return [\n",
    "#             stemmer.stem(t) # выполняем стеминг\n",
    "#             for t in nltk_tokenize_word( # разбиваем текст на слова\n",
    "#                 re.sub(r'</?[a-z]+>',' ',text), # удаляем xml tag \n",
    "#                 language='russian'\n",
    "#             ) \n",
    "#             if not (\n",
    "#                (len(t)<3) # выкидываем очень короткие слова\n",
    "#                or re.match(r'^[^a-zA-ZЁёА-я]+$', t) # выкидываем токены не содержащие букв\n",
    "#                or re.match(r'^(\\w)\\1+$', t)  # выкидываем токены из одного повторяющегося символа\n",
    "#                or re.match(r'^[^a-zA-ZЁёА-я].*$', t)  # выкидываем токены начинающиеся не с буквы\n",
    "#                or (t in stopwords) # выкидываем предлоги, союзы и т.п.    \n",
    "#             )\n",
    "#         ] \n",
    "    \n",
    "# # data['text'].progress_apply(tokenizer)"
   ]
  },
  {
   "cell_type": "code",
   "execution_count": 7,
   "metadata": {},
   "outputs": [],
   "source": [
    "# # токенайзер с лемматизацией\n",
    "\n",
    "# from natasha import Doc\n",
    "# from natasha import Segmenter\n",
    "# from natasha import MorphVocab\n",
    "# from natasha import NewsEmbedding\n",
    "# from natasha import NewsMorphTagger\n",
    "\n",
    "# from nltk.corpus import stopwords as nltk_stopwords\n",
    "# stopwords = set(nltk_stopwords.words('russian'))\n",
    "\n",
    "# seg = Segmenter() # базовый токенизатор\n",
    "# # морфологический анализ\n",
    "# tagger = NewsMorphTagger( NewsEmbedding() )\n",
    "# lvoc = MorphVocab() # лемматизатор\n",
    "\n",
    "# def tokenizer(text,seg=seg, tagger=tagger, lvoc=lvoc, stopwords=stopwords):\n",
    "#     doc = Doc(text)\n",
    "#     doc.segment(seg)\n",
    "#     doc.tag_morph(tagger)\n",
    "#     for t in doc.tokens: t.lemmatize(lvoc)\n",
    "        \n",
    "#     return [\n",
    "#         t.lemma for t in doc.tokens\n",
    "#         if not (\n",
    "#              False\n",
    "#             or (t.lemma in stopwords) # выкидываем предлоги, союзы и т.п.  \n",
    "#             or re.match(r'^[^a-zA-ZЁёА-я]+$', t.lemma) # выкидываем токены не содержащие букв\n",
    "#             or re.match(r'^(\\w)\\1+$', t.lemma)  # выкидываем токены из одного повторяющегося символа\n",
    "#             or re.match(r'^[^a-zA-ZЁёА-я].*$', t.lemma)  # выкидываем токены начинающиеся не с буквы\n",
    "#         )\n",
    "#     ]"
   ]
  },
  {
   "cell_type": "markdown",
   "metadata": {},
   "source": [
    "## выполняем частотный анализ"
   ]
  },
  {
   "cell_type": "code",
   "execution_count": 8,
   "metadata": {},
   "outputs": [
    {
     "name": "stdout",
     "output_type": "stream",
     "text": [
      "CPU times: user 4.32 s, sys: 12.2 ms, total: 4.33 s\n",
      "Wall time: 4.34 s\n"
     ]
    }
   ],
   "source": [
    "%%time\n",
    "\n",
    "from sklearn.feature_extraction.text import TfidfVectorizer\n",
    "\n",
    "# использования токенайзера вместе с векторайзером\n",
    "tf_model = TfidfVectorizer(\n",
    "        min_df=.001, # выкидываем очень редкие слова\n",
    "        max_df=.10, # выкидываем очень частые слова\n",
    "        use_idf=False, # не используем обратную частоту\n",
    "        norm='l2', # нормируем TF\n",
    "        tokenizer=tokenizer, # ф-ция токенайзер\n",
    "        token_pattern=None, # отключаем дефолтный токенайзер\n",
    "    )\n",
    "\n",
    "data_tf = tf_model.fit_transform( data['text'] )"
   ]
  },
  {
   "cell_type": "code",
   "execution_count": 9,
   "metadata": {},
   "outputs": [
    {
     "data": {
      "text/plain": [
       "(3196, 19991)"
      ]
     },
     "execution_count": 9,
     "metadata": {},
     "output_type": "execute_result"
    }
   ],
   "source": [
    "data_tf.shape"
   ]
  },
  {
   "cell_type": "code",
   "execution_count": 10,
   "metadata": {},
   "outputs": [
    {
     "name": "stdout",
     "output_type": "stream",
     "text": [
      "19991\n"
     ]
    },
    {
     "data": {
      "text/plain": [
       "12396      поражением\n",
       "4336         дорожных\n",
       "18604     учитывались\n",
       "16970           столб\n",
       "19085         хорошая\n",
       "8598          надеюсь\n",
       "8483          мусором\n",
       "5201          запуска\n",
       "2436      вооруженные\n",
       "2753            выдал\n",
       "1365          близком\n",
       "2421        волокнами\n",
       "13734        проехать\n",
       "17990          убитый\n",
       "1190      безработицы\n",
       "18201         указать\n",
       "13958      протяжении\n",
       "14988             род\n",
       "9871          обычных\n",
       "10749       отработал\n",
       "15762              ск\n",
       "8178          мировом\n",
       "9665      образование\n",
       "4533     еврокомиссия\n",
       "8373           москве\n",
       "9448            ночью\n",
       "15289         санузел\n",
       "14520    распоряжение\n",
       "3636             даче\n",
       "19819          эфиров\n",
       "dtype: object"
      ]
     },
     "execution_count": 10,
     "metadata": {},
     "output_type": "execute_result"
    }
   ],
   "source": [
    "vcb1 = sorted(tf_model.vocabulary_)\n",
    "print(len(vcb1))\n",
    "pd.Series(vcb1).sample(30)"
   ]
  },
  {
   "cell_type": "markdown",
   "metadata": {},
   "source": [
    "## формируем датасеты"
   ]
  },
  {
   "cell_type": "code",
   "execution_count": 11,
   "metadata": {},
   "outputs": [
    {
     "data": {
      "text/plain": [
       "{'auto': 0,\n",
       " 'culture': 1,\n",
       " 'economics': 2,\n",
       " 'health': 3,\n",
       " 'incident': 4,\n",
       " 'politics': 5,\n",
       " 'realty': 6,\n",
       " 'reclama': 7,\n",
       " 'science': 8,\n",
       " 'social': 9,\n",
       " 'sport': 10,\n",
       " 'tech': 11,\n",
       " 'woman': 12}"
      ]
     },
     "execution_count": 11,
     "metadata": {},
     "output_type": "execute_result"
    }
   ],
   "source": [
    "labels = { t:i for i,t in enumerate(sorted(set(data['tag']))) }\n",
    "labels"
   ]
  },
  {
   "cell_type": "code",
   "execution_count": 12,
   "metadata": {},
   "outputs": [
    {
     "data": {
      "text/plain": [
       "array([5, 1, 1, ..., 8, 5, 9])"
      ]
     },
     "execution_count": 12,
     "metadata": {},
     "output_type": "execute_result"
    }
   ],
   "source": [
    "y = data['tag'].map(labels).values\n",
    "y"
   ]
  },
  {
   "cell_type": "code",
   "execution_count": 13,
   "metadata": {},
   "outputs": [
    {
     "data": {
      "text/plain": [
       "((2237, 19991), (2237,), (959, 19991), (959,))"
      ]
     },
     "execution_count": 13,
     "metadata": {},
     "output_type": "execute_result"
    }
   ],
   "source": [
    "from sklearn.model_selection import train_test_split\n",
    "\n",
    "X_train, X_test, y_train, y_test = train_test_split( data_tf, y, test_size=0.3, random_state=326 )\n",
    "X_train.shape, y_train.shape, X_test.shape, y_test.shape"
   ]
  },
  {
   "cell_type": "markdown",
   "metadata": {},
   "source": [
    "## обучаем классификатор"
   ]
  },
  {
   "cell_type": "code",
   "execution_count": 14,
   "metadata": {},
   "outputs": [],
   "source": [
    "from sklearn.linear_model import SGDClassifier\n",
    "\n",
    "clf = SGDClassifier(loss='hinge',max_iter=1000, tol=0.19).fit(X_train,y_train)"
   ]
  },
  {
   "cell_type": "markdown",
   "metadata": {},
   "source": [
    "## тестируем"
   ]
  },
  {
   "cell_type": "code",
   "execution_count": 15,
   "metadata": {},
   "outputs": [],
   "source": [
    "from sklearn.metrics import confusion_matrix\n",
    "from sklearn.metrics import classification_report\n",
    "from sklearn.metrics import accuracy_score"
   ]
  },
  {
   "cell_type": "code",
   "execution_count": 16,
   "metadata": {},
   "outputs": [
    {
     "data": {
      "text/plain": [
       "0.9991059454626732"
      ]
     },
     "execution_count": 16,
     "metadata": {},
     "output_type": "execute_result"
    }
   ],
   "source": [
    "# доля правильных ответов на учебном наборе\n",
    "o = clf.predict(X_train)\n",
    "accuracy_score(y_train,o)"
   ]
  },
  {
   "cell_type": "code",
   "execution_count": 17,
   "metadata": {},
   "outputs": [
    {
     "data": {
      "text/plain": [
       "0.872784150156413"
      ]
     },
     "execution_count": 17,
     "metadata": {},
     "output_type": "execute_result"
    }
   ],
   "source": [
    "# доля правильных ответов на тестовом наборе\n",
    "o = clf.predict(X_test)\n",
    "\n",
    "accuracy_score(y_test,o)"
   ]
  },
  {
   "cell_type": "code",
   "execution_count": 18,
   "metadata": {},
   "outputs": [
    {
     "name": "stdout",
     "output_type": "stream",
     "text": [
      "              precision    recall  f1-score   support\n",
      "\n",
      "        auto       0.95      0.86      0.90        87\n",
      "     culture       0.78      0.93      0.85       101\n",
      "   economics       0.81      0.84      0.83        76\n",
      "      health       0.81      0.71      0.76        31\n",
      "    incident       0.91      0.93      0.92       123\n",
      "    politics       0.89      0.94      0.92       177\n",
      "      realty       0.88      0.71      0.79        21\n",
      "     reclama       1.00      0.71      0.83        17\n",
      "     science       0.88      1.00      0.94        68\n",
      "      social       0.56      0.32      0.41        44\n",
      "       sport       0.98      0.98      0.98       118\n",
      "        tech       0.82      0.78      0.80        89\n",
      "       woman       0.86      0.86      0.86         7\n",
      "\n",
      "    accuracy                           0.87       959\n",
      "   macro avg       0.86      0.81      0.83       959\n",
      "weighted avg       0.87      0.87      0.87       959\n",
      "\n"
     ]
    }
   ],
   "source": [
    "print( classification_report( y_test, o, target_names=sorted(labels.keys()) ) )"
   ]
  },
  {
   "cell_type": "markdown",
   "metadata": {},
   "source": [
    "| точность (precision) | полнота (recall) |\n",
    "| :---: | :---: |\n",
    "| $\\frac{TP}{TP + FP}$ |  $\\frac{TP}{TP + FN}$ |\n",
    "| найдено позитивных / всего найдено |  найдено позитивных / всего позитивных |"
   ]
  },
  {
   "cell_type": "code",
   "execution_count": 19,
   "metadata": {},
   "outputs": [
    {
     "data": {
      "image/png": "[encoded data removed]",
      "text/plain": [
       "<Figure size 800x800 with 1 Axes>"
      ]
     },
     "metadata": {},
     "output_type": "display_data"
    }
   ],
   "source": [
    "from sklearn.metrics import confusion_matrix\n",
    "from sklearn.metrics import ConfusionMatrixDisplay\n",
    "from matplotlib import pyplot as plt\n",
    "\n",
    "fig,ax = plt.subplots(figsize=(8,8))\n",
    "disp = ConfusionMatrixDisplay(\n",
    "    confusion_matrix=confusion_matrix(y_test,o), \n",
    "    display_labels=sorted(labels.keys()),\n",
    ")\n",
    "disp.plot(ax=ax, xticks_rotation='vertical', include_values=True, cmap='viridis',  colorbar=False,)\n",
    "plt.show()"
   ]
  },
  {
   "cell_type": "markdown",
   "metadata": {},
   "source": [
    "---"
   ]
  },
  {
   "cell_type": "code",
   "execution_count": 20,
   "metadata": {},
   "outputs": [],
   "source": [
    "data['predict'] = pd.Series( clf.predict(data_tf) ).map( { labels[k]:k for k in labels } )"
   ]
  },
  {
   "cell_type": "code",
   "execution_count": 23,
   "metadata": {},
   "outputs": [
    {
     "data": {
      "text/html": [
       "<div>\n",
       "<style scoped>\n",
       "    .dataframe tbody tr th:only-of-type {\n",
       "        vertical-align: middle;\n",
       "    }\n",
       "\n",
       "    .dataframe tbody tr th {\n",
       "        vertical-align: top;\n",
       "    }\n",
       "\n",
       "    .dataframe thead th {\n",
       "        text-align: right;\n",
       "    }\n",
       "</style>\n",
       "<table border=\"1\" class=\"dataframe\">\n",
       "  <thead>\n",
       "    <tr style=\"text-align: right;\">\n",
       "      <th></th>\n",
       "      <th>text</th>\n",
       "      <th>tag</th>\n",
       "      <th>predict</th>\n",
       "    </tr>\n",
       "  </thead>\n",
       "  <tbody>\n",
       "    <tr>\n",
       "      <th>0</th>\n",
       "      <td>В Саудовской Аравии сняли первый антитеррористический мультфильм -\\nтрехминутную ленту \"Внимание!\". \"Внимание!\" отражает точку зрения мирового\\nсообщества на войну, развязанную терроризмом, и поэт...</td>\n",
       "      <td>politics</td>\n",
       "      <td>culture</td>\n",
       "    </tr>\n",
       "    <tr>\n",
       "      <th>39</th>\n",
       "      <td>Баскетбол : Кириленко опроверг прогнозы врачей Главная звезда российского\\nбаскетбола Андрей Кириленко вернулся в строй после двухнедельного\\nотсутствия, связанного с травмой правой лодыжки. О том...</td>\n",
       "      <td>sport</td>\n",
       "      <td>tech</td>\n",
       "    </tr>\n",
       "    <tr>\n",
       "      <th>56</th>\n",
       "      <td>Боль в груди? А ты поди - роди! Поэтому мы решили помочь мамам восстановиться\\nсамим и научиться ухаживать за новорожденным.Роддома отличаются очень\\nжесткими кроватями, которые \"удваивают\" ощущения.</td>\n",
       "      <td>health</td>\n",
       "      <td>culture</td>\n",
       "    </tr>\n",
       "    <tr>\n",
       "      <th>79</th>\n",
       "      <td>Вышла финальная версия Firefox 1.5 Анонсирован выход релиза Firefox 1.5</td>\n",
       "      <td>tech</td>\n",
       "      <td>culture</td>\n",
       "    </tr>\n",
       "    <tr>\n",
       "      <th>86</th>\n",
       "      <td>Устанавливаем Solaris 10 в VMware Workstation 5.5В PDF документе \" How\\nto Install Solaris 10 Inside VMware Workstation 5.5 \" (размер 500Кб) по\\nшагам и со скриншотами описан процесс конфигурирова...</td>\n",
       "      <td>tech</td>\n",
       "      <td>health</td>\n",
       "    </tr>\n",
       "    <tr>\n",
       "      <th>...</th>\n",
       "      <td>...</td>\n",
       "      <td>...</td>\n",
       "      <td>...</td>\n",
       "    </tr>\n",
       "    <tr>\n",
       "      <th>3157</th>\n",
       "      <td>28.07.2010. ИТАР-ТАСС - Программа ВОСТОК На Колыме успешно завершился\\nэтнокультурный образовательныйэксперимент по программе поддержки северных\\nнародов Губернские ведомости (Южно-Сахалинск) Севе...</td>\n",
       "      <td>social</td>\n",
       "      <td>culture</td>\n",
       "    </tr>\n",
       "    <tr>\n",
       "      <th>3158</th>\n",
       "      <td>Центр рыночной информации АПК Закон об охоте, учитывающий интересы коренных\\nмалочисленных народов Севера, вступит в силу с 1 января 2011 года Проект\\nфедерального закона \"О внесении изменений в Ф...</td>\n",
       "      <td>social</td>\n",
       "      <td>politics</td>\n",
       "    </tr>\n",
       "    <tr>\n",
       "      <th>3169</th>\n",
       "      <td>22.07.2010. Телекомпания \"Северный город\" Закон об охоте, учитывающий\\nинтересы КМНС, вступит в силу с 1 январябудущего года.  URA.RU - Российское\\nинформационное агентство Задание Комаровой выпол...</td>\n",
       "      <td>politics</td>\n",
       "      <td>economics</td>\n",
       "    </tr>\n",
       "    <tr>\n",
       "      <th>3173</th>\n",
       "      <td>Все новости Красноярска (Yarsk.Ru) Финансирование программы ?Коренные\\nмалочисленные народы Севера? увеличится на 7 миллионов рублей 15 июля\\nсостоялось заседание Правительства Красноярского края,...</td>\n",
       "      <td>economics</td>\n",
       "      <td>politics</td>\n",
       "    </tr>\n",
       "    <tr>\n",
       "      <th>3192</th>\n",
       "      <td>Интерфакс Религия (interfax-religion.ru) В Минрегионразвития призывают\\nроссиян не бояться своего духовного наследия подобно Европе В министерстве\\nрегионального развития РФ считают крайне важным ...</td>\n",
       "      <td>social</td>\n",
       "      <td>culture</td>\n",
       "    </tr>\n",
       "  </tbody>\n",
       "</table>\n",
       "<p>124 rows × 3 columns</p>\n",
       "</div>"
      ],
      "text/plain": [
       "                                                                                                                                                                                                         text  \\\n",
       "0     В Саудовской Аравии сняли первый антитеррористический мультфильм -\\nтрехминутную ленту \"Внимание!\". \"Внимание!\" отражает точку зрения мирового\\nсообщества на войну, развязанную терроризмом, и поэт...   \n",
       "39    Баскетбол : Кириленко опроверг прогнозы врачей Главная звезда российского\\nбаскетбола Андрей Кириленко вернулся в строй после двухнедельного\\nотсутствия, связанного с травмой правой лодыжки. О том...   \n",
       "56    Боль в груди? А ты поди - роди! Поэтому мы решили помочь мамам восстановиться\\nсамим и научиться ухаживать за новорожденным.Роддома отличаются очень\\nжесткими кроватями, которые \"удваивают\" ощущения.   \n",
       "79                                                                                                                                    Вышла финальная версия Firefox 1.5 Анонсирован выход релиза Firefox 1.5   \n",
       "86    Устанавливаем Solaris 10 в VMware Workstation 5.5В PDF документе \" How\\nto Install Solaris 10 Inside VMware Workstation 5.5 \" (размер 500Кб) по\\nшагам и со скриншотами описан процесс конфигурирова...   \n",
       "...                                                                                                                                                                                                       ...   \n",
       "3157  28.07.2010. ИТАР-ТАСС - Программа ВОСТОК На Колыме успешно завершился\\nэтнокультурный образовательныйэксперимент по программе поддержки северных\\nнародов Губернские ведомости (Южно-Сахалинск) Севе...   \n",
       "3158  Центр рыночной информации АПК Закон об охоте, учитывающий интересы коренных\\nмалочисленных народов Севера, вступит в силу с 1 января 2011 года Проект\\nфедерального закона \"О внесении изменений в Ф...   \n",
       "3169  22.07.2010. Телекомпания \"Северный город\" Закон об охоте, учитывающий\\nинтересы КМНС, вступит в силу с 1 январябудущего года.  URA.RU - Российское\\nинформационное агентство Задание Комаровой выпол...   \n",
       "3173  Все новости Красноярска (Yarsk.Ru) Финансирование программы ?Коренные\\nмалочисленные народы Севера? увеличится на 7 миллионов рублей 15 июля\\nсостоялось заседание Правительства Красноярского края,...   \n",
       "3192  Интерфакс Религия (interfax-religion.ru) В Минрегионразвития призывают\\nроссиян не бояться своего духовного наследия подобно Европе В министерстве\\nрегионального развития РФ считают крайне важным ...   \n",
       "\n",
       "            tag    predict  \n",
       "0      politics    culture  \n",
       "39        sport       tech  \n",
       "56       health    culture  \n",
       "79         tech    culture  \n",
       "86         tech     health  \n",
       "...         ...        ...  \n",
       "3157     social    culture  \n",
       "3158     social   politics  \n",
       "3169   politics  economics  \n",
       "3173  economics   politics  \n",
       "3192     social    culture  \n",
       "\n",
       "[124 rows x 3 columns]"
      ]
     },
     "execution_count": 23,
     "metadata": {},
     "output_type": "execute_result"
    }
   ],
   "source": [
    "data.query('tag!=predict')"
   ]
  },
  {
   "cell_type": "code",
   "execution_count": 22,
   "metadata": {},
   "outputs": [],
   "source": [
    "# Введение в анализ текстовой информации с помощью Python и методов машинного обучения\n",
    "# https://habr.com/ru/post/205360/"
   ]
  }
 ],
 "metadata": {
  "kernelspec": {
   "display_name": "Python 3 (ipykernel)",
   "language": "python",
   "name": "python3"
  },
  "language_info": {
   "codemirror_mode": {
    "name": "ipython",
    "version": 3
   },
   "file_extension": ".py",
   "mimetype": "text/x-python",
   "name": "python",
   "nbconvert_exporter": "python",
   "pygments_lexer": "ipython3",
   "version": "3.11.5"
  },
  "toc": {
   "base_numbering": 1,
   "nav_menu": {},
   "number_sections": true,
   "sideBar": true,
   "skip_h1_title": false,
   "title_cell": "Table of Contents",
   "title_sidebar": "Contents",
   "toc_cell": false,
   "toc_position": {},
   "toc_section_display": true,
   "toc_window_display": false
  }
 },
 "nbformat": 4,
 "nbformat_minor": 2
}
