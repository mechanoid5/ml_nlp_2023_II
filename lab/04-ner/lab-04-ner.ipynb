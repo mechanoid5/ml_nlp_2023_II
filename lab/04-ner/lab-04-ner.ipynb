{
 "cells": [
  {
   "cell_type": "markdown",
   "id": "20b602aa",
   "metadata": {},
   "source": [
    "__лабораторная работа N4:__ извлечение именованных сущностей из текстов"
   ]
  },
  {
   "cell_type": "markdown",
   "id": "45891270",
   "metadata": {},
   "source": [
    "__цель:__ научиться преобразовывать тексты в структурированные данные"
   ]
  },
  {
   "cell_type": "markdown",
   "id": "96ce681e",
   "metadata": {},
   "source": [
    "__порядок выполнения:__  загружаем подходящий текст, применяем NER-тагеры, (см.примеры к лекци про NER)"
   ]
  },
  {
   "cell_type": "markdown",
   "id": "b1a7d17c",
   "metadata": {},
   "source": [
    "---"
   ]
  },
  {
   "cell_type": "code",
   "execution_count": null,
   "id": "91978fb3",
   "metadata": {},
   "outputs": [],
   "source": [
    "# здесь загружаем текст\n",
    "\n",
    "filename = ....\n",
    "\n",
    "with open(filename,'rt') as f: text = f.read()\n",
    "print(len(text))\n",
    "print(text[:100])"
   ]
  },
  {
   "cell_type": "code",
   "execution_count": null,
   "id": "1fad4a05",
   "metadata": {},
   "outputs": [],
   "source": [
    "from ipymarkup import show_span_box_markup as show_markup\n",
    "\n",
    "from natasha import MorphVocab\n",
    "from natasha.extractors import NamesExtractor # извлечение имён\n",
    "from natasha.extractors import DatesExtractor # извлечение дат \n",
    "from natasha.extractors import AddrExtractor # извлечение адресов \n",
    "from natasha.extractors import MoneyExtractor  # извлечение записей о денежных суммах \n",
    "\n",
    "\n",
    "extractor = NamesExtractor(MorphVocab())\n",
    "... = extractor(text)\n",
    "...."
   ]
  },
  {
   "cell_type": "code",
   "execution_count": null,
   "id": "fe19f406",
   "metadata": {},
   "outputs": [],
   "source": []
  },
  {
   "cell_type": "code",
   "execution_count": null,
   "id": "6b916801",
   "metadata": {},
   "outputs": [],
   "source": [
    "from natasha import Doc\n",
    "from natasha import Segmenter\n",
    "from natasha import NewsNERTagger\n",
    "from natasha import NewsEmbedding\n",
    "\n",
    "sentences = Doc(text)\n",
    "sentences.segment(Segmenter()) \n",
    "......"
   ]
  },
  {
   "cell_type": "code",
   "execution_count": null,
   "id": "c467f457",
   "metadata": {},
   "outputs": [],
   "source": []
  }
 ],
 "metadata": {
  "kernelspec": {
   "display_name": "Python 3 (ipykernel)",
   "language": "python",
   "name": "python3"
  },
  "language_info": {
   "codemirror_mode": {
    "name": "ipython",
    "version": 3
   },
   "file_extension": ".py",
   "mimetype": "text/x-python",
   "name": "python",
   "nbconvert_exporter": "python",
   "pygments_lexer": "ipython3",
   "version": "3.8.9"
  },
  "toc": {
   "base_numbering": 1,
   "nav_menu": {},
   "number_sections": true,
   "sideBar": true,
   "skip_h1_title": false,
   "title_cell": "Table of Contents",
   "title_sidebar": "Contents",
   "toc_cell": false,
   "toc_position": {},
   "toc_section_display": true,
   "toc_window_display": false
  }
 },
 "nbformat": 4,
 "nbformat_minor": 5
}
