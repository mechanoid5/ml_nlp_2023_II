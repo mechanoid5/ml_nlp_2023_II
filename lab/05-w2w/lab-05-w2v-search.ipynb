{
 "cells": [
  {
   "cell_type": "markdown",
   "metadata": {},
   "source": [
    "**лабораторная работа N5**: оценка семантической близости с помощью Word2Vec"
   ]
  },
  {
   "cell_type": "markdown",
   "metadata": {},
   "source": [
    "**цель**: изучить возможности W2V с помощью библиотеки Gensim"
   ]
  },
  {
   "cell_type": "markdown",
   "metadata": {},
   "source": [
    "---"
   ]
  },
  {
   "cell_type": "markdown",
   "metadata": {},
   "source": [
    "\n",
    "__задача:__ реализовать поиск строк по запросам"
   ]
  },
  {
   "cell_type": "markdown",
   "metadata": {},
   "source": [
    "__решение:__\n",
    "- кодируем слова w2v (Gensim)\n",
    "- для каждой строки агрегируем список кодов (считаем устреднённый вектор w2v)\n",
    "- кодируем слова запроса и агрегируем список кодов\n",
    "- ищем ближайшие строки к вектору запроса (косинусная мера близости)"
   ]
  },
  {
   "cell_type": "markdown",
   "metadata": {},
   "source": [
    "описание решения задачи можно найти в лекциях ФПМИ"
   ]
  },
  {
   "cell_type": "markdown",
   "metadata": {},
   "source": [
    "Лекторий ФПМИ: Прикладное машинное обучение 1. Intro to NLP. Word embeddings; Радослав Нейчев   \n",
    "https://www.youtube.com/watch?v=aZ5se_SW81c\n",
    "\n",
    "Лекторий ФПМИ: Прикладное машинное обучение. Семинар 1. Word embeddings; Николай Карпачев   \n",
    "https://www.youtube.com/watch?v=XlEHTf93Y8w\n",
    "\n",
    "https://github.com/girafe-ai/ml-mipt/tree/master/week1_01_word_embeddings"
   ]
  },
  {
   "cell_type": "markdown",
   "metadata": {},
   "source": [
    "---"
   ]
  },
  {
   "cell_type": "markdown",
   "metadata": {},
   "source": [
    "**данные**"
   ]
  },
  {
   "cell_type": "code",
   "execution_count": 1,
   "metadata": {
    "collapsed": true
   },
   "outputs": [
    {
     "name": "stdout",
     "output_type": "stream",
     "text": [
      "--2022-03-17 11:27:06--  https://www.dropbox.com/s/obaitrix9jyu84r/quora.txt?dl=1\n",
      "SSL_INIT\n",
      "Загружен сертификат CA «/etc/ssl/certs/ca-certificates.crt»\n",
      "Распознаётся www.dropbox.com (www.dropbox.com)… 162.125.71.18, 2620:100:6026:18::a27d:4612\n",
      "Подключение к www.dropbox.com (www.dropbox.com)|162.125.71.18|:443... соединение установлено.\n",
      "HTTP-запрос отправлен. Ожидание ответа… 301 Moved Permanently\n",
      "Адрес: /s/dl/obaitrix9jyu84r/quora.txt [переход]\n",
      "--2022-03-17 11:27:06--  https://www.dropbox.com/s/dl/obaitrix9jyu84r/quora.txt\n",
      "SSL_INIT\n",
      "Повторное использование соединения с www.dropbox.com:443.\n",
      "HTTP-запрос отправлен. Ожидание ответа… 302 Found\n",
      "Адрес: https://uc661cd0ce40471e5290aabe4d04.dl.dropboxusercontent.com/cd/0/get/BhntKxMmBn4jb-G5DM-NK5Vp2TVVK4-XmuvWOdyQQyzWDvpW4z7PAP6dF0_2jUAATgctWiY28c3wgoAs_s2fy8XsmCF-Ab3QsITBIRY1_XGQxh-iIGUzl5d4C_08N6AdNPZUPLGi6MgF-Iw2MgaqXrwh_hA1JmDmUwStODIJ3aXnoQ/file?dl=1# [переход]\n",
      "--2022-03-17 11:27:07--  https://uc661cd0ce40471e5290aabe4d04.dl.dropboxusercontent.com/cd/0/get/BhntKxMmBn4jb-G5DM-NK5Vp2TVVK4-XmuvWOdyQQyzWDvpW4z7PAP6dF0_2jUAATgctWiY28c3wgoAs_s2fy8XsmCF-Ab3QsITBIRY1_XGQxh-iIGUzl5d4C_08N6AdNPZUPLGi6MgF-Iw2MgaqXrwh_hA1JmDmUwStODIJ3aXnoQ/file?dl=1\n",
      "SSL_INIT\n",
      "Распознаётся uc661cd0ce40471e5290aabe4d04.dl.dropboxusercontent.com (uc661cd0ce40471e5290aabe4d04.dl.dropboxusercontent.com)… 162.125.71.15, 2620:100:6028:15::a27d:470f\n",
      "Подключение к uc661cd0ce40471e5290aabe4d04.dl.dropboxusercontent.com (uc661cd0ce40471e5290aabe4d04.dl.dropboxusercontent.com)|162.125.71.15|:443... соединение установлено.\n",
      "HTTP-запрос отправлен. Ожидание ответа… 200 OK\n",
      "Длина: 33813903 (32M) [application/binary]\n",
      "Сохранение в: «./quora.txt»\n",
      "\n",
      "./quora.txt         100%[===================>]  32,25M  8,43MB/s    за 4,1s    \n",
      "\n",
      "2022-03-17 11:27:12 (7,80 MB/s) - «./quora.txt» сохранён [33813903/33813903]\n",
      "\n"
     ]
    }
   ],
   "source": [
    "# загружаем данные, в которых будем искать соответствие запросу\n",
    "\n",
    "!wget -c https://www.dropbox.com/s/obaitrix9jyu84r/quora.txt?dl=1 -O ./quora.txt\n",
    "# # alternative download link: https://yadi.sk/i/BPQrUu1NaTduEw"
   ]
  },
  {
   "cell_type": "code",
   "execution_count": 3,
   "metadata": {},
   "outputs": [
    {
     "data": {
      "text/plain": [
       "['Do you think the AAP will fulfill the promises they mentioned in their manifesto? Why and how?',\n",
       " 'What are all the pros and cons of having dual citizenship?',\n",
       " 'Can someone translate this one from Italian or Latin?']"
      ]
     },
     "execution_count": 3,
     "metadata": {},
     "output_type": "execute_result"
    }
   ],
   "source": [
    "# список вопросов\n",
    "\n",
    "with open('./quora.txt', encoding='utf-8',mode='rt') as f: \n",
    "    data = f.read().split('\\n')\n",
    "\n",
    "data[54:57]"
   ]
  },
  {
   "cell_type": "code",
   "execution_count": 4,
   "metadata": {},
   "outputs": [],
   "source": [
    "# !pip install gensim"
   ]
  },
  {
   "cell_type": "code",
   "execution_count": null,
   "metadata": {},
   "outputs": [],
   "source": [
    "from gensim.models.word2vec import KeyedVectors\n",
    "\n",
    "# загружаем Word2Vec\n",
    "w2v_fpath = '....'\n",
    "w2v = KeyedVectors.load_word2vec_format(w2v_fpath,binary=True,limit=100000)"
   ]
  },
  {
   "cell_type": "code",
   "execution_count": null,
   "metadata": {},
   "outputs": [],
   "source": [
    "# токенизатор для деления строк на слова\n",
    "tokenize = ..."
   ]
  },
  {
   "cell_type": "code",
   "execution_count": 2,
   "metadata": {},
   "outputs": [],
   "source": [
    "import numpy as np"
   ]
  },
  {
   "cell_type": "code",
   "execution_count": null,
   "metadata": {},
   "outputs": [],
   "source": [
    "data_vec = np.vstack([\n",
    "    np.mean([ # считаем устреднённый вектор w2v\n",
    "            w2v.get_vector(word) # кодируем слова w2v \n",
    "            for word in tokenize(sentense) # для каждой строки выполняем токенизацию\n",
    "        ],axis=0) \n",
    "        for sentense in data\n",
    "    ])"
   ]
  },
  {
   "cell_type": "code",
   "execution_count": null,
   "metadata": {},
   "outputs": [],
   "source": [
    "query = '.....'\n",
    "\n",
    "# кодируем слова запроса и агрегируем список кодов\n",
    "query_vec = np.mean([ w2v.get_vector(word) for word in tokenize(query) ],axis=0)     "
   ]
  },
  {
   "cell_type": "markdown",
   "metadata": {},
   "source": [
    "ищем ближайшие строки к вектору запроса (косинусная мера близости)"
   ]
  },
  {
   "cell_type": "code",
   "execution_count": null,
   "metadata": {},
   "outputs": [],
   "source": [
    "i = np.argmax( w2v.cosine_similarities( query_vec, data_vec ) )\n",
    "\n",
    "print( query )\n",
    "print( data[i] )"
   ]
  }
 ],
 "metadata": {
  "kernelspec": {
   "display_name": "Python 3 (ipykernel)",
   "language": "python",
   "name": "python3"
  },
  "language_info": {
   "codemirror_mode": {
    "name": "ipython",
    "version": 3
   },
   "file_extension": ".py",
   "mimetype": "text/x-python",
   "name": "python",
   "nbconvert_exporter": "python",
   "pygments_lexer": "ipython3",
   "version": "3.8.9"
  },
  "toc": {
   "base_numbering": 1,
   "nav_menu": {},
   "number_sections": true,
   "sideBar": true,
   "skip_h1_title": false,
   "title_cell": "Table of Contents",
   "title_sidebar": "Contents",
   "toc_cell": false,
   "toc_position": {},
   "toc_section_display": "block",
   "toc_window_display": false
  }
 },
 "nbformat": 4,
 "nbformat_minor": 4
}
